{
 "cells": [
  {
   "cell_type": "markdown",
   "id": "396bcbde",
   "metadata": {},
   "source": [
    "# Appointment Analysis for Brazil \n",
    "\n",
    "## Table of Contents\n",
    "<ul>\n",
    "<li><a href=\"#intro\">Introduction</a></li>\n",
    "<li><a href=\"#wrangling\">Data Munging</a></li>\n",
    "<li><a href=\"#eda\">EDA and Answers</a></li>\n",
    "<li><a href=\"#eda\">Conclusion</a></li>\n",
    "</ul>"
   ]
  },
  {
   "cell_type": "markdown",
   "id": "cfb2637f",
   "metadata": {},
   "source": [
    "# Introduction\n",
    "\n",
    "## Data Source & Attributes\n",
    "\n",
    "\"This dataset collects information from 100k medical appointments in Brazil and is focused on the question of whether or not patients show up for their appointment. A number of characteristics about the patient are included in each row.\"\n",
    "\n",
    "Data Source : Udacity-Data Analist Nanodegree Program & https://www.kaggle.com/joniarroba/noshowappointments\n",
    "\n",
    "|Attributes|Describtion|Data Type|\n",
    "|:-----------:|:----------------------------:|:----------------------------:|\n",
    "|PatientId|identification of the patient|numeric|\n",
    "|AppointmentID|identification of the appointment|numeric|\n",
    "|Gender|gender of the patient as M or F|string|\n",
    "|ScheduledDay|what day the patient set up their appointment|---|\n",
    "|AppointmentDay|the day of patient should actually go for treatment|---|\n",
    "|Age|age of the patient|numeric|\n",
    "|Neighbourhood| the location of the hospital|string|\n",
    "|Scholarship|whether or not the patient is enrolled in Brasilian welfare program `Bolsa Família`|boolean|\n",
    "|Hipertension|true or false|boolean|\n",
    "|Diabetes|true or false|boolean|\n",
    "|Alcoholism|true or false|boolean|\n",
    "|Handcap|true or false|boolean|\n",
    "|SMS_received|1 or more messages sent to the patient|boolean|\n",
    "|No-show|it says ‘No’ if the patient showed up to their appointment, and ‘Yes’ if they did not show up.|string|\n"
   ]
  },
  {
   "cell_type": "markdown",
   "id": "1365455d",
   "metadata": {},
   "source": [
    "## Questions related to the data\n",
    "\n",
    "Q1: Is there any relation between the age of the patient and having a delay on the date of appointment.\n",
    "\n",
    "Q2: Is there any relation between gender and delaying appointment?\n",
    "\n",
    "Q3: Do people delay more their appointment when they have no-scholarship?\n",
    "\n",
    "Q4: Is there any relationship between gender have scholarship and delay the appointment?\n",
    "\n",
    "Q5: Which gender has more appointment in which illness?\n",
    "\n",
    "Q6: Does a person suffer from alcoholism tend to delay appointments?"
   ]
  },
  {
   "cell_type": "markdown",
   "id": "794daccb",
   "metadata": {},
   "source": [
    "## Importing Libraries"
   ]
  },
  {
   "cell_type": "code",
   "execution_count": 41,
   "id": "103295fd",
   "metadata": {},
   "outputs": [
    {
     "name": "stdout",
     "output_type": "stream",
     "text": [
      "Requirement already satisfied: researchpy in /opt/homebrew/Caskroom/miniconda/base/lib/python3.9/site-packages (0.3.2)\n",
      "Requirement already satisfied: statsmodels in /opt/homebrew/Caskroom/miniconda/base/lib/python3.9/site-packages (from researchpy) (0.13.1)\n",
      "Requirement already satisfied: patsy in /opt/homebrew/Caskroom/miniconda/base/lib/python3.9/site-packages (from researchpy) (0.5.2)\n",
      "Requirement already satisfied: numpy in /opt/homebrew/Caskroom/miniconda/base/lib/python3.9/site-packages (from researchpy) (1.21.2)\n",
      "Requirement already satisfied: pandas in /opt/homebrew/Caskroom/miniconda/base/lib/python3.9/site-packages (from researchpy) (1.3.4)\n",
      "Requirement already satisfied: scipy in /opt/homebrew/Caskroom/miniconda/base/lib/python3.9/site-packages (from researchpy) (1.7.1)\n",
      "Requirement already satisfied: pytz>=2017.3 in /opt/homebrew/Caskroom/miniconda/base/lib/python3.9/site-packages (from pandas->researchpy) (2021.3)\n",
      "Requirement already satisfied: python-dateutil>=2.7.3 in /opt/homebrew/Caskroom/miniconda/base/lib/python3.9/site-packages (from pandas->researchpy) (2.8.2)\n",
      "Requirement already satisfied: six>=1.5 in /opt/homebrew/Caskroom/miniconda/base/lib/python3.9/site-packages (from python-dateutil>=2.7.3->pandas->researchpy) (1.16.0)\n"
     ]
    }
   ],
   "source": [
    "import numpy as np\n",
    "import pandas as pd\n",
    "import matplotlib.pyplot as plt\n",
    "import seaborn as sns\n",
    "%matplotlib inline\n",
    "\n",
    "!pip3 install researchpy\n",
    "import researchpy as rp\n",
    "import scipy.stats as stats\n",
    "\n",
    "import statsmodels.api as sm\n",
    "import pylab as py"
   ]
  },
  {
   "cell_type": "markdown",
   "id": "d3889647",
   "metadata": {},
   "source": [
    "# Data Munging"
   ]
  },
  {
   "cell_type": "markdown",
   "id": "948cfb14",
   "metadata": {},
   "source": [
    "## Gathering Data"
   ]
  },
  {
   "cell_type": "code",
   "execution_count": 2,
   "id": "1e633188",
   "metadata": {},
   "outputs": [
    {
     "data": {
      "text/html": [
       "<div>\n",
       "<style scoped>\n",
       "    .dataframe tbody tr th:only-of-type {\n",
       "        vertical-align: middle;\n",
       "    }\n",
       "\n",
       "    .dataframe tbody tr th {\n",
       "        vertical-align: top;\n",
       "    }\n",
       "\n",
       "    .dataframe thead th {\n",
       "        text-align: right;\n",
       "    }\n",
       "</style>\n",
       "<table border=\"1\" class=\"dataframe\">\n",
       "  <thead>\n",
       "    <tr style=\"text-align: right;\">\n",
       "      <th></th>\n",
       "      <th>PatientId</th>\n",
       "      <th>AppointmentID</th>\n",
       "      <th>Gender</th>\n",
       "      <th>ScheduledDay</th>\n",
       "      <th>AppointmentDay</th>\n",
       "      <th>Age</th>\n",
       "      <th>Neighbourhood</th>\n",
       "      <th>Scholarship</th>\n",
       "      <th>Hipertension</th>\n",
       "      <th>Diabetes</th>\n",
       "      <th>Alcoholism</th>\n",
       "      <th>Handcap</th>\n",
       "      <th>SMS_received</th>\n",
       "      <th>No-show</th>\n",
       "    </tr>\n",
       "  </thead>\n",
       "  <tbody>\n",
       "    <tr>\n",
       "      <th>0</th>\n",
       "      <td>2.987250e+13</td>\n",
       "      <td>5642903</td>\n",
       "      <td>F</td>\n",
       "      <td>2016-04-29T18:38:08Z</td>\n",
       "      <td>2016-04-29T00:00:00Z</td>\n",
       "      <td>62</td>\n",
       "      <td>JARDIM DA PENHA</td>\n",
       "      <td>0</td>\n",
       "      <td>1</td>\n",
       "      <td>0</td>\n",
       "      <td>0</td>\n",
       "      <td>0</td>\n",
       "      <td>0</td>\n",
       "      <td>No</td>\n",
       "    </tr>\n",
       "    <tr>\n",
       "      <th>1</th>\n",
       "      <td>5.589978e+14</td>\n",
       "      <td>5642503</td>\n",
       "      <td>M</td>\n",
       "      <td>2016-04-29T16:08:27Z</td>\n",
       "      <td>2016-04-29T00:00:00Z</td>\n",
       "      <td>56</td>\n",
       "      <td>JARDIM DA PENHA</td>\n",
       "      <td>0</td>\n",
       "      <td>0</td>\n",
       "      <td>0</td>\n",
       "      <td>0</td>\n",
       "      <td>0</td>\n",
       "      <td>0</td>\n",
       "      <td>No</td>\n",
       "    </tr>\n",
       "    <tr>\n",
       "      <th>2</th>\n",
       "      <td>4.262962e+12</td>\n",
       "      <td>5642549</td>\n",
       "      <td>F</td>\n",
       "      <td>2016-04-29T16:19:04Z</td>\n",
       "      <td>2016-04-29T00:00:00Z</td>\n",
       "      <td>62</td>\n",
       "      <td>MATA DA PRAIA</td>\n",
       "      <td>0</td>\n",
       "      <td>0</td>\n",
       "      <td>0</td>\n",
       "      <td>0</td>\n",
       "      <td>0</td>\n",
       "      <td>0</td>\n",
       "      <td>No</td>\n",
       "    </tr>\n",
       "    <tr>\n",
       "      <th>3</th>\n",
       "      <td>8.679512e+11</td>\n",
       "      <td>5642828</td>\n",
       "      <td>F</td>\n",
       "      <td>2016-04-29T17:29:31Z</td>\n",
       "      <td>2016-04-29T00:00:00Z</td>\n",
       "      <td>8</td>\n",
       "      <td>PONTAL DE CAMBURI</td>\n",
       "      <td>0</td>\n",
       "      <td>0</td>\n",
       "      <td>0</td>\n",
       "      <td>0</td>\n",
       "      <td>0</td>\n",
       "      <td>0</td>\n",
       "      <td>No</td>\n",
       "    </tr>\n",
       "    <tr>\n",
       "      <th>4</th>\n",
       "      <td>8.841186e+12</td>\n",
       "      <td>5642494</td>\n",
       "      <td>F</td>\n",
       "      <td>2016-04-29T16:07:23Z</td>\n",
       "      <td>2016-04-29T00:00:00Z</td>\n",
       "      <td>56</td>\n",
       "      <td>JARDIM DA PENHA</td>\n",
       "      <td>0</td>\n",
       "      <td>1</td>\n",
       "      <td>1</td>\n",
       "      <td>0</td>\n",
       "      <td>0</td>\n",
       "      <td>0</td>\n",
       "      <td>No</td>\n",
       "    </tr>\n",
       "  </tbody>\n",
       "</table>\n",
       "</div>"
      ],
      "text/plain": [
       "      PatientId  AppointmentID Gender          ScheduledDay  \\\n",
       "0  2.987250e+13        5642903      F  2016-04-29T18:38:08Z   \n",
       "1  5.589978e+14        5642503      M  2016-04-29T16:08:27Z   \n",
       "2  4.262962e+12        5642549      F  2016-04-29T16:19:04Z   \n",
       "3  8.679512e+11        5642828      F  2016-04-29T17:29:31Z   \n",
       "4  8.841186e+12        5642494      F  2016-04-29T16:07:23Z   \n",
       "\n",
       "         AppointmentDay  Age      Neighbourhood  Scholarship  Hipertension  \\\n",
       "0  2016-04-29T00:00:00Z   62    JARDIM DA PENHA            0             1   \n",
       "1  2016-04-29T00:00:00Z   56    JARDIM DA PENHA            0             0   \n",
       "2  2016-04-29T00:00:00Z   62      MATA DA PRAIA            0             0   \n",
       "3  2016-04-29T00:00:00Z    8  PONTAL DE CAMBURI            0             0   \n",
       "4  2016-04-29T00:00:00Z   56    JARDIM DA PENHA            0             1   \n",
       "\n",
       "   Diabetes  Alcoholism  Handcap  SMS_received No-show  \n",
       "0         0           0        0             0      No  \n",
       "1         0           0        0             0      No  \n",
       "2         0           0        0             0      No  \n",
       "3         0           0        0             0      No  \n",
       "4         1           0        0             0      No  "
      ]
     },
     "execution_count": 2,
     "metadata": {},
     "output_type": "execute_result"
    }
   ],
   "source": [
    "df = pd.read_csv('./data/dataset.csv')\n",
    "df.head()"
   ]
  },
  {
   "cell_type": "markdown",
   "id": "d9249dc6",
   "metadata": {},
   "source": [
    "## Assessing Data "
   ]
  },
  {
   "cell_type": "code",
   "execution_count": 3,
   "id": "7c2091ea",
   "metadata": {},
   "outputs": [
    {
     "data": {
      "text/plain": [
       "(110527, 14)"
      ]
     },
     "execution_count": 3,
     "metadata": {},
     "output_type": "execute_result"
    }
   ],
   "source": [
    "df.shape"
   ]
  },
  {
   "cell_type": "markdown",
   "id": "01bb60ef",
   "metadata": {},
   "source": [
    "* There are 110.527 patient records having appointment."
   ]
  },
  {
   "cell_type": "code",
   "execution_count": 4,
   "id": "af16d97e",
   "metadata": {},
   "outputs": [
    {
     "name": "stdout",
     "output_type": "stream",
     "text": [
      "<class 'pandas.core.frame.DataFrame'>\n",
      "RangeIndex: 110527 entries, 0 to 110526\n",
      "Data columns (total 14 columns):\n",
      " #   Column          Non-Null Count   Dtype  \n",
      "---  ------          --------------   -----  \n",
      " 0   PatientId       110527 non-null  float64\n",
      " 1   AppointmentID   110527 non-null  int64  \n",
      " 2   Gender          110527 non-null  object \n",
      " 3   ScheduledDay    110527 non-null  object \n",
      " 4   AppointmentDay  110527 non-null  object \n",
      " 5   Age             110527 non-null  int64  \n",
      " 6   Neighbourhood   110527 non-null  object \n",
      " 7   Scholarship     110527 non-null  int64  \n",
      " 8   Hipertension    110527 non-null  int64  \n",
      " 9   Diabetes        110527 non-null  int64  \n",
      " 10  Alcoholism      110527 non-null  int64  \n",
      " 11  Handcap         110527 non-null  int64  \n",
      " 12  SMS_received    110527 non-null  int64  \n",
      " 13  No-show         110527 non-null  object \n",
      "dtypes: float64(1), int64(8), object(5)\n",
      "memory usage: 11.8+ MB\n"
     ]
    }
   ],
   "source": [
    "df.info()"
   ]
  },
  {
   "cell_type": "markdown",
   "id": "bad62960",
   "metadata": {},
   "source": [
    "* The oldest patient is 115 years old and the youngest one is an unborn baby. The majority of them are between 37 and 55 years old.\n",
    "* Only 9 percent of the patients have scholarship.\n",
    "* The patients have appointments for hipertension as 19 percent, for diabetes as 7 percent, and for alcoholism as 3 percent  appointments.\n",
    "* Mostly, patients older than 55 have SMS one or more.\n",
    "* The majority of patients are delayed their appointment 4 to 15 days, on average it is delayed 10 days."
   ]
  },
  {
   "cell_type": "code",
   "execution_count": 5,
   "id": "01e3bd0b",
   "metadata": {
    "scrolled": true
   },
   "outputs": [
    {
     "data": {
      "text/plain": [
       "array([[<AxesSubplot:title={'center':'PatientId'}>,\n",
       "        <AxesSubplot:title={'center':'AppointmentID'}>,\n",
       "        <AxesSubplot:title={'center':'Age'}>],\n",
       "       [<AxesSubplot:title={'center':'Scholarship'}>,\n",
       "        <AxesSubplot:title={'center':'Hipertension'}>,\n",
       "        <AxesSubplot:title={'center':'Diabetes'}>],\n",
       "       [<AxesSubplot:title={'center':'Alcoholism'}>,\n",
       "        <AxesSubplot:title={'center':'Handcap'}>,\n",
       "        <AxesSubplot:title={'center':'SMS_received'}>]], dtype=object)"
      ]
     },
     "execution_count": 5,
     "metadata": {},
     "output_type": "execute_result"
    },
    {
     "data": {
      "image/png": "[encoded data removed]",
      "text/plain": [
       "<Figure size 720x720 with 9 Axes>"
      ]
     },
     "metadata": {
      "needs_background": "light"
     },
     "output_type": "display_data"
    }
   ],
   "source": [
    "df.hist(figsize=(10,10))"
   ]
  },
  {
   "cell_type": "markdown",
   "id": "269442ed",
   "metadata": {},
   "source": [
    "Most people did not received SMS, majority of the reasons to have an appointment accordingly hipertension,diabetes, and alcoholism. Moreover, the day of delay generally less than a month."
   ]
  },
  {
   "cell_type": "markdown",
   "id": "1ca2b96a",
   "metadata": {},
   "source": [
    "* I need to extract date from timestamp (both for scheduled day and appointment day)."
   ]
  },
  {
   "cell_type": "code",
   "execution_count": 6,
   "id": "c153d781",
   "metadata": {},
   "outputs": [],
   "source": [
    "from datetime import datetime"
   ]
  },
  {
   "cell_type": "code",
   "execution_count": 7,
   "id": "dc5b23ec",
   "metadata": {},
   "outputs": [
    {
     "data": {
      "text/plain": [
       "0        2016-04-29 18:38:08+00:00\n",
       "1        2016-04-29 16:08:27+00:00\n",
       "2        2016-04-29 16:19:04+00:00\n",
       "3        2016-04-29 17:29:31+00:00\n",
       "4        2016-04-29 16:07:23+00:00\n",
       "                    ...           \n",
       "110522   2016-05-03 09:15:35+00:00\n",
       "110523   2016-05-03 07:27:33+00:00\n",
       "110524   2016-04-27 16:03:52+00:00\n",
       "110525   2016-04-27 15:09:23+00:00\n",
       "110526   2016-04-27 13:30:56+00:00\n",
       "Name: ScheduledDay, Length: 110527, dtype: datetime64[ns, UTC]"
      ]
     },
     "execution_count": 7,
     "metadata": {},
     "output_type": "execute_result"
    }
   ],
   "source": [
    "df[\"ScheduledDay\"] = pd.to_datetime(df[\"ScheduledDay\"])\n",
    "df[\"ScheduledDay\"]"
   ]
  },
  {
   "cell_type": "code",
   "execution_count": 8,
   "id": "e9c25718",
   "metadata": {},
   "outputs": [
    {
     "data": {
      "text/plain": [
       "0         2016-04-29\n",
       "1         2016-04-29\n",
       "2         2016-04-29\n",
       "3         2016-04-29\n",
       "4         2016-04-29\n",
       "             ...    \n",
       "110522    2016-05-03\n",
       "110523    2016-05-03\n",
       "110524    2016-04-27\n",
       "110525    2016-04-27\n",
       "110526    2016-04-27\n",
       "Name: Schedule, Length: 110527, dtype: object"
      ]
     },
     "execution_count": 8,
     "metadata": {},
     "output_type": "execute_result"
    }
   ],
   "source": [
    "df[\"Schedule\"] = df[\"ScheduledDay\"].dt.date\n",
    "df[\"Schedule\"]"
   ]
  },
  {
   "cell_type": "code",
   "execution_count": 9,
   "id": "2c0b8bce",
   "metadata": {
    "scrolled": true
   },
   "outputs": [
    {
     "data": {
      "text/plain": [
       "0        2016-04-29 00:00:00+00:00\n",
       "1        2016-04-29 00:00:00+00:00\n",
       "2        2016-04-29 00:00:00+00:00\n",
       "3        2016-04-29 00:00:00+00:00\n",
       "4        2016-04-29 00:00:00+00:00\n",
       "                    ...           \n",
       "110522   2016-06-07 00:00:00+00:00\n",
       "110523   2016-06-07 00:00:00+00:00\n",
       "110524   2016-06-07 00:00:00+00:00\n",
       "110525   2016-06-07 00:00:00+00:00\n",
       "110526   2016-06-07 00:00:00+00:00\n",
       "Name: AppointmentDay, Length: 110527, dtype: datetime64[ns, UTC]"
      ]
     },
     "execution_count": 9,
     "metadata": {},
     "output_type": "execute_result"
    }
   ],
   "source": [
    "df[\"AppointmentDay\"] = pd.to_datetime(df[\"AppointmentDay\"])\n",
    "df[\"AppointmentDay\"]"
   ]
  },
  {
   "cell_type": "code",
   "execution_count": 10,
   "id": "78279305",
   "metadata": {
    "scrolled": true
   },
   "outputs": [
    {
     "data": {
      "text/plain": [
       "0         2016-04-29\n",
       "1         2016-04-29\n",
       "2         2016-04-29\n",
       "3         2016-04-29\n",
       "4         2016-04-29\n",
       "             ...    \n",
       "110522    2016-06-07\n",
       "110523    2016-06-07\n",
       "110524    2016-06-07\n",
       "110525    2016-06-07\n",
       "110526    2016-06-07\n",
       "Name: Appointment, Length: 110527, dtype: object"
      ]
     },
     "execution_count": 10,
     "metadata": {},
     "output_type": "execute_result"
    }
   ],
   "source": [
    "df[\"Appointment\"] = df[\"AppointmentDay\"].dt.date\n",
    "df[\"Appointment\"]"
   ]
  },
  {
   "cell_type": "markdown",
   "id": "edbe08bd",
   "metadata": {},
   "source": [
    "I would like to add a new column called `Delay` to calculate the number of days if there was a delay in appointment."
   ]
  },
  {
   "cell_type": "code",
   "execution_count": 11,
   "id": "5f2e631b",
   "metadata": {},
   "outputs": [],
   "source": [
    "df['Delay'] = (df['Appointment'] - df['Schedule']).dt.days"
   ]
  },
  {
   "cell_type": "markdown",
   "id": "59c1e6cc",
   "metadata": {},
   "source": [
    "### Grouping attitude for appointment as `earlier`, `ontime` and `delayed`"
   ]
  },
  {
   "cell_type": "code",
   "execution_count": 12,
   "id": "b63223dc",
   "metadata": {},
   "outputs": [],
   "source": [
    "#earlier = df.Delay < 0\n",
    "ontime = df.Delay == 0\n",
    "delayed = df.Delay > 0"
   ]
  },
  {
   "cell_type": "markdown",
   "id": "20e09e89",
   "metadata": {},
   "source": [
    "## Data Cleaning"
   ]
  },
  {
   "cell_type": "markdown",
   "id": "51165eff",
   "metadata": {},
   "source": [
    "### Cleaning Column Labels"
   ]
  },
  {
   "cell_type": "markdown",
   "id": "6d0869fd",
   "metadata": {},
   "source": [
    "I do not need `AppointmentDay` and `ScheduledDay` anymore, also there are some columns that I am planning not to use listed as `PatientId`, `AppointmentID`, and `Handcap`."
   ]
  },
  {
   "cell_type": "code",
   "execution_count": 13,
   "id": "23b8604d",
   "metadata": {},
   "outputs": [],
   "source": [
    "df.drop(['PatientId', 'AppointmentID', 'Handcap', 'ScheduledDay', 'AppointmentDay' ], axis=1, inplace = True)"
   ]
  },
  {
   "cell_type": "markdown",
   "id": "86face3e",
   "metadata": {},
   "source": [
    "I will replace `Male` with `0` and `Female` with `1` to see on graph.|"
   ]
  },
  {
   "cell_type": "code",
   "execution_count": 14,
   "id": "462f66d8",
   "metadata": {},
   "outputs": [
    {
     "data": {
      "text/html": [
       "<div>\n",
       "<style scoped>\n",
       "    .dataframe tbody tr th:only-of-type {\n",
       "        vertical-align: middle;\n",
       "    }\n",
       "\n",
       "    .dataframe tbody tr th {\n",
       "        vertical-align: top;\n",
       "    }\n",
       "\n",
       "    .dataframe thead th {\n",
       "        text-align: right;\n",
       "    }\n",
       "</style>\n",
       "<table border=\"1\" class=\"dataframe\">\n",
       "  <thead>\n",
       "    <tr style=\"text-align: right;\">\n",
       "      <th></th>\n",
       "      <th>Gender</th>\n",
       "      <th>Age</th>\n",
       "      <th>Neighbourhood</th>\n",
       "      <th>Scholarship</th>\n",
       "      <th>Hipertension</th>\n",
       "      <th>Diabetes</th>\n",
       "      <th>Alcoholism</th>\n",
       "      <th>SMS_received</th>\n",
       "      <th>No-show</th>\n",
       "      <th>Schedule</th>\n",
       "      <th>Appointment</th>\n",
       "      <th>Delay</th>\n",
       "    </tr>\n",
       "  </thead>\n",
       "  <tbody>\n",
       "    <tr>\n",
       "      <th>0</th>\n",
       "      <td>1</td>\n",
       "      <td>62</td>\n",
       "      <td>JARDIM DA PENHA</td>\n",
       "      <td>0</td>\n",
       "      <td>1</td>\n",
       "      <td>0</td>\n",
       "      <td>0</td>\n",
       "      <td>0</td>\n",
       "      <td>No</td>\n",
       "      <td>2016-04-29</td>\n",
       "      <td>2016-04-29</td>\n",
       "      <td>0</td>\n",
       "    </tr>\n",
       "    <tr>\n",
       "      <th>1</th>\n",
       "      <td>0</td>\n",
       "      <td>56</td>\n",
       "      <td>JARDIM DA PENHA</td>\n",
       "      <td>0</td>\n",
       "      <td>0</td>\n",
       "      <td>0</td>\n",
       "      <td>0</td>\n",
       "      <td>0</td>\n",
       "      <td>No</td>\n",
       "      <td>2016-04-29</td>\n",
       "      <td>2016-04-29</td>\n",
       "      <td>0</td>\n",
       "    </tr>\n",
       "    <tr>\n",
       "      <th>2</th>\n",
       "      <td>1</td>\n",
       "      <td>62</td>\n",
       "      <td>MATA DA PRAIA</td>\n",
       "      <td>0</td>\n",
       "      <td>0</td>\n",
       "      <td>0</td>\n",
       "      <td>0</td>\n",
       "      <td>0</td>\n",
       "      <td>No</td>\n",
       "      <td>2016-04-29</td>\n",
       "      <td>2016-04-29</td>\n",
       "      <td>0</td>\n",
       "    </tr>\n",
       "    <tr>\n",
       "      <th>3</th>\n",
       "      <td>1</td>\n",
       "      <td>8</td>\n",
       "      <td>PONTAL DE CAMBURI</td>\n",
       "      <td>0</td>\n",
       "      <td>0</td>\n",
       "      <td>0</td>\n",
       "      <td>0</td>\n",
       "      <td>0</td>\n",
       "      <td>No</td>\n",
       "      <td>2016-04-29</td>\n",
       "      <td>2016-04-29</td>\n",
       "      <td>0</td>\n",
       "    </tr>\n",
       "    <tr>\n",
       "      <th>4</th>\n",
       "      <td>1</td>\n",
       "      <td>56</td>\n",
       "      <td>JARDIM DA PENHA</td>\n",
       "      <td>0</td>\n",
       "      <td>1</td>\n",
       "      <td>1</td>\n",
       "      <td>0</td>\n",
       "      <td>0</td>\n",
       "      <td>No</td>\n",
       "      <td>2016-04-29</td>\n",
       "      <td>2016-04-29</td>\n",
       "      <td>0</td>\n",
       "    </tr>\n",
       "    <tr>\n",
       "      <th>...</th>\n",
       "      <td>...</td>\n",
       "      <td>...</td>\n",
       "      <td>...</td>\n",
       "      <td>...</td>\n",
       "      <td>...</td>\n",
       "      <td>...</td>\n",
       "      <td>...</td>\n",
       "      <td>...</td>\n",
       "      <td>...</td>\n",
       "      <td>...</td>\n",
       "      <td>...</td>\n",
       "      <td>...</td>\n",
       "    </tr>\n",
       "    <tr>\n",
       "      <th>110522</th>\n",
       "      <td>1</td>\n",
       "      <td>56</td>\n",
       "      <td>MARIA ORTIZ</td>\n",
       "      <td>0</td>\n",
       "      <td>0</td>\n",
       "      <td>0</td>\n",
       "      <td>0</td>\n",
       "      <td>1</td>\n",
       "      <td>No</td>\n",
       "      <td>2016-05-03</td>\n",
       "      <td>2016-06-07</td>\n",
       "      <td>35</td>\n",
       "    </tr>\n",
       "    <tr>\n",
       "      <th>110523</th>\n",
       "      <td>1</td>\n",
       "      <td>51</td>\n",
       "      <td>MARIA ORTIZ</td>\n",
       "      <td>0</td>\n",
       "      <td>0</td>\n",
       "      <td>0</td>\n",
       "      <td>0</td>\n",
       "      <td>1</td>\n",
       "      <td>No</td>\n",
       "      <td>2016-05-03</td>\n",
       "      <td>2016-06-07</td>\n",
       "      <td>35</td>\n",
       "    </tr>\n",
       "    <tr>\n",
       "      <th>110524</th>\n",
       "      <td>1</td>\n",
       "      <td>21</td>\n",
       "      <td>MARIA ORTIZ</td>\n",
       "      <td>0</td>\n",
       "      <td>0</td>\n",
       "      <td>0</td>\n",
       "      <td>0</td>\n",
       "      <td>1</td>\n",
       "      <td>No</td>\n",
       "      <td>2016-04-27</td>\n",
       "      <td>2016-06-07</td>\n",
       "      <td>41</td>\n",
       "    </tr>\n",
       "    <tr>\n",
       "      <th>110525</th>\n",
       "      <td>1</td>\n",
       "      <td>38</td>\n",
       "      <td>MARIA ORTIZ</td>\n",
       "      <td>0</td>\n",
       "      <td>0</td>\n",
       "      <td>0</td>\n",
       "      <td>0</td>\n",
       "      <td>1</td>\n",
       "      <td>No</td>\n",
       "      <td>2016-04-27</td>\n",
       "      <td>2016-06-07</td>\n",
       "      <td>41</td>\n",
       "    </tr>\n",
       "    <tr>\n",
       "      <th>110526</th>\n",
       "      <td>1</td>\n",
       "      <td>54</td>\n",
       "      <td>MARIA ORTIZ</td>\n",
       "      <td>0</td>\n",
       "      <td>0</td>\n",
       "      <td>0</td>\n",
       "      <td>0</td>\n",
       "      <td>1</td>\n",
       "      <td>No</td>\n",
       "      <td>2016-04-27</td>\n",
       "      <td>2016-06-07</td>\n",
       "      <td>41</td>\n",
       "    </tr>\n",
       "  </tbody>\n",
       "</table>\n",
       "<p>110527 rows × 12 columns</p>\n",
       "</div>"
      ],
      "text/plain": [
       "        Gender  Age      Neighbourhood  Scholarship  Hipertension  Diabetes  \\\n",
       "0            1   62    JARDIM DA PENHA            0             1         0   \n",
       "1            0   56    JARDIM DA PENHA            0             0         0   \n",
       "2            1   62      MATA DA PRAIA            0             0         0   \n",
       "3            1    8  PONTAL DE CAMBURI            0             0         0   \n",
       "4            1   56    JARDIM DA PENHA            0             1         1   \n",
       "...        ...  ...                ...          ...           ...       ...   \n",
       "110522       1   56        MARIA ORTIZ            0             0         0   \n",
       "110523       1   51        MARIA ORTIZ            0             0         0   \n",
       "110524       1   21        MARIA ORTIZ            0             0         0   \n",
       "110525       1   38        MARIA ORTIZ            0             0         0   \n",
       "110526       1   54        MARIA ORTIZ            0             0         0   \n",
       "\n",
       "        Alcoholism  SMS_received No-show    Schedule Appointment  Delay  \n",
       "0                0             0      No  2016-04-29  2016-04-29      0  \n",
       "1                0             0      No  2016-04-29  2016-04-29      0  \n",
       "2                0             0      No  2016-04-29  2016-04-29      0  \n",
       "3                0             0      No  2016-04-29  2016-04-29      0  \n",
       "4                0             0      No  2016-04-29  2016-04-29      0  \n",
       "...            ...           ...     ...         ...         ...    ...  \n",
       "110522           0             1      No  2016-05-03  2016-06-07     35  \n",
       "110523           0             1      No  2016-05-03  2016-06-07     35  \n",
       "110524           0             1      No  2016-04-27  2016-06-07     41  \n",
       "110525           0             1      No  2016-04-27  2016-06-07     41  \n",
       "110526           0             1      No  2016-04-27  2016-06-07     41  \n",
       "\n",
       "[110527 rows x 12 columns]"
      ]
     },
     "execution_count": 14,
     "metadata": {},
     "output_type": "execute_result"
    }
   ],
   "source": [
    "df['Gender'].replace(['M','F'], [0,1] ,inplace=True)\n",
    "df"
   ]
  },
  {
   "cell_type": "markdown",
   "id": "9f5c76ee",
   "metadata": {},
   "source": [
    "### Dropping Nulls"
   ]
  },
  {
   "cell_type": "code",
   "execution_count": 15,
   "id": "f6c785d9",
   "metadata": {
    "scrolled": true
   },
   "outputs": [
    {
     "name": "stdout",
     "output_type": "stream",
     "text": [
      "<class 'pandas.core.frame.DataFrame'>\n",
      "RangeIndex: 110527 entries, 0 to 110526\n",
      "Data columns (total 12 columns):\n",
      " #   Column         Non-Null Count   Dtype \n",
      "---  ------         --------------   ----- \n",
      " 0   Gender         110527 non-null  int64 \n",
      " 1   Age            110527 non-null  int64 \n",
      " 2   Neighbourhood  110527 non-null  object\n",
      " 3   Scholarship    110527 non-null  int64 \n",
      " 4   Hipertension   110527 non-null  int64 \n",
      " 5   Diabetes       110527 non-null  int64 \n",
      " 6   Alcoholism     110527 non-null  int64 \n",
      " 7   SMS_received   110527 non-null  int64 \n",
      " 8   No-show        110527 non-null  object\n",
      " 9   Schedule       110527 non-null  object\n",
      " 10  Appointment    110527 non-null  object\n",
      " 11  Delay          110527 non-null  int64 \n",
      "dtypes: int64(8), object(4)\n",
      "memory usage: 10.1+ MB\n"
     ]
    }
   ],
   "source": [
    "df.info()"
   ]
  },
  {
   "cell_type": "markdown",
   "id": "9f2f58f8",
   "metadata": {},
   "source": [
    "* There is no missing value. So, no need to fill or drop NAs."
   ]
  },
  {
   "cell_type": "markdown",
   "id": "c19ee3c2",
   "metadata": {},
   "source": [
    "# Independent T-Test Using Researchpy"
   ]
  },
  {
   "cell_type": "code",
   "execution_count": 32,
   "id": "1319d85b",
   "metadata": {},
   "outputs": [],
   "source": [
    "# Subset data\n",
    "male = df.query('Gender == \"0\"')['Delay']\n",
    "female = df.query('Gender == \"1\"')['Delay']"
   ]
  },
  {
   "cell_type": "code",
   "execution_count": 33,
   "id": "1773f158",
   "metadata": {},
   "outputs": [
    {
     "data": {
      "text/html": [
       "<div>\n",
       "<style scoped>\n",
       "    .dataframe tbody tr th:only-of-type {\n",
       "        vertical-align: middle;\n",
       "    }\n",
       "\n",
       "    .dataframe tbody tr th {\n",
       "        vertical-align: top;\n",
       "    }\n",
       "\n",
       "    .dataframe thead tr th {\n",
       "        text-align: left;\n",
       "    }\n",
       "\n",
       "    .dataframe thead tr:last-of-type th {\n",
       "        text-align: right;\n",
       "    }\n",
       "</style>\n",
       "<table border=\"1\" class=\"dataframe\">\n",
       "  <thead>\n",
       "    <tr>\n",
       "      <th></th>\n",
       "      <th colspan=\"8\" halign=\"left\">Age</th>\n",
       "      <th colspan=\"2\" halign=\"left\">Scholarship</th>\n",
       "      <th>...</th>\n",
       "      <th colspan=\"2\" halign=\"left\">SMS_received</th>\n",
       "      <th colspan=\"8\" halign=\"left\">Delay</th>\n",
       "    </tr>\n",
       "    <tr>\n",
       "      <th></th>\n",
       "      <th>count</th>\n",
       "      <th>mean</th>\n",
       "      <th>std</th>\n",
       "      <th>min</th>\n",
       "      <th>25%</th>\n",
       "      <th>50%</th>\n",
       "      <th>75%</th>\n",
       "      <th>max</th>\n",
       "      <th>count</th>\n",
       "      <th>mean</th>\n",
       "      <th>...</th>\n",
       "      <th>75%</th>\n",
       "      <th>max</th>\n",
       "      <th>count</th>\n",
       "      <th>mean</th>\n",
       "      <th>std</th>\n",
       "      <th>min</th>\n",
       "      <th>25%</th>\n",
       "      <th>50%</th>\n",
       "      <th>75%</th>\n",
       "      <th>max</th>\n",
       "    </tr>\n",
       "    <tr>\n",
       "      <th>Gender</th>\n",
       "      <th></th>\n",
       "      <th></th>\n",
       "      <th></th>\n",
       "      <th></th>\n",
       "      <th></th>\n",
       "      <th></th>\n",
       "      <th></th>\n",
       "      <th></th>\n",
       "      <th></th>\n",
       "      <th></th>\n",
       "      <th></th>\n",
       "      <th></th>\n",
       "      <th></th>\n",
       "      <th></th>\n",
       "      <th></th>\n",
       "      <th></th>\n",
       "      <th></th>\n",
       "      <th></th>\n",
       "      <th></th>\n",
       "      <th></th>\n",
       "      <th></th>\n",
       "    </tr>\n",
       "  </thead>\n",
       "  <tbody>\n",
       "    <tr>\n",
       "      <th>0</th>\n",
       "      <td>38687.0</td>\n",
       "      <td>33.736863</td>\n",
       "      <td>24.435221</td>\n",
       "      <td>0.0</td>\n",
       "      <td>10.0</td>\n",
       "      <td>33.0</td>\n",
       "      <td>54.0</td>\n",
       "      <td>100.0</td>\n",
       "      <td>38687.0</td>\n",
       "      <td>0.051904</td>\n",
       "      <td>...</td>\n",
       "      <td>1.0</td>\n",
       "      <td>1.0</td>\n",
       "      <td>38687.0</td>\n",
       "      <td>9.593197</td>\n",
       "      <td>14.814802</td>\n",
       "      <td>-1.0</td>\n",
       "      <td>0.0</td>\n",
       "      <td>3.0</td>\n",
       "      <td>14.0</td>\n",
       "      <td>179.0</td>\n",
       "    </tr>\n",
       "    <tr>\n",
       "      <th>1</th>\n",
       "      <td>71840.0</td>\n",
       "      <td>38.893987</td>\n",
       "      <td>22.155235</td>\n",
       "      <td>-1.0</td>\n",
       "      <td>21.0</td>\n",
       "      <td>39.0</td>\n",
       "      <td>56.0</td>\n",
       "      <td>115.0</td>\n",
       "      <td>71840.0</td>\n",
       "      <td>0.123232</td>\n",
       "      <td>...</td>\n",
       "      <td>1.0</td>\n",
       "      <td>1.0</td>\n",
       "      <td>71840.0</td>\n",
       "      <td>10.501698</td>\n",
       "      <td>15.477637</td>\n",
       "      <td>-6.0</td>\n",
       "      <td>0.0</td>\n",
       "      <td>4.0</td>\n",
       "      <td>15.0</td>\n",
       "      <td>179.0</td>\n",
       "    </tr>\n",
       "  </tbody>\n",
       "</table>\n",
       "<p>2 rows × 56 columns</p>\n",
       "</div>"
      ],
      "text/plain": [
       "            Age                                                      \\\n",
       "          count       mean        std  min   25%   50%   75%    max   \n",
       "Gender                                                                \n",
       "0       38687.0  33.736863  24.435221  0.0  10.0  33.0  54.0  100.0   \n",
       "1       71840.0  38.893987  22.155235 -1.0  21.0  39.0  56.0  115.0   \n",
       "\n",
       "       Scholarship            ... SMS_received         Delay             \\\n",
       "             count      mean  ...          75%  max    count       mean   \n",
       "Gender                        ...                                         \n",
       "0          38687.0  0.051904  ...          1.0  1.0  38687.0   9.593197   \n",
       "1          71840.0  0.123232  ...          1.0  1.0  71840.0  10.501698   \n",
       "\n",
       "                                               \n",
       "              std  min  25%  50%   75%    max  \n",
       "Gender                                         \n",
       "0       14.814802 -1.0  0.0  3.0  14.0  179.0  \n",
       "1       15.477637 -6.0  0.0  4.0  15.0  179.0  \n",
       "\n",
       "[2 rows x 56 columns]"
      ]
     },
     "execution_count": 33,
     "metadata": {},
     "output_type": "execute_result"
    }
   ],
   "source": [
    "df.groupby('Gender').describe()"
   ]
  },
  {
   "cell_type": "code",
   "execution_count": 48,
   "id": "12e6fb91",
   "metadata": {},
   "outputs": [
    {
     "data": {
      "text/html": [
       "<div>\n",
       "<style scoped>\n",
       "    .dataframe tbody tr th:only-of-type {\n",
       "        vertical-align: middle;\n",
       "    }\n",
       "\n",
       "    .dataframe tbody tr th {\n",
       "        vertical-align: top;\n",
       "    }\n",
       "\n",
       "    .dataframe thead th {\n",
       "        text-align: right;\n",
       "    }\n",
       "</style>\n",
       "<table border=\"1\" class=\"dataframe\">\n",
       "  <thead>\n",
       "    <tr style=\"text-align: right;\">\n",
       "      <th>Delay</th>\n",
       "      <th>-6</th>\n",
       "      <th>-1</th>\n",
       "      <th>0</th>\n",
       "      <th>1</th>\n",
       "      <th>2</th>\n",
       "      <th>3</th>\n",
       "      <th>4</th>\n",
       "      <th>5</th>\n",
       "      <th>6</th>\n",
       "      <th>7</th>\n",
       "      <th>...</th>\n",
       "      <th>139</th>\n",
       "      <th>142</th>\n",
       "      <th>146</th>\n",
       "      <th>151</th>\n",
       "      <th>155</th>\n",
       "      <th>162</th>\n",
       "      <th>169</th>\n",
       "      <th>176</th>\n",
       "      <th>179</th>\n",
       "      <th>All</th>\n",
       "    </tr>\n",
       "    <tr>\n",
       "      <th>Gender</th>\n",
       "      <th></th>\n",
       "      <th></th>\n",
       "      <th></th>\n",
       "      <th></th>\n",
       "      <th></th>\n",
       "      <th></th>\n",
       "      <th></th>\n",
       "      <th></th>\n",
       "      <th></th>\n",
       "      <th></th>\n",
       "      <th></th>\n",
       "      <th></th>\n",
       "      <th></th>\n",
       "      <th></th>\n",
       "      <th></th>\n",
       "      <th></th>\n",
       "      <th></th>\n",
       "      <th></th>\n",
       "      <th></th>\n",
       "      <th></th>\n",
       "      <th></th>\n",
       "    </tr>\n",
       "  </thead>\n",
       "  <tbody>\n",
       "    <tr>\n",
       "      <th>0</th>\n",
       "      <td>0</td>\n",
       "      <td>2</td>\n",
       "      <td>14796</td>\n",
       "      <td>1810</td>\n",
       "      <td>2189</td>\n",
       "      <td>933</td>\n",
       "      <td>1759</td>\n",
       "      <td>1087</td>\n",
       "      <td>1288</td>\n",
       "      <td>1716</td>\n",
       "      <td>...</td>\n",
       "      <td>1</td>\n",
       "      <td>1</td>\n",
       "      <td>0</td>\n",
       "      <td>1</td>\n",
       "      <td>3</td>\n",
       "      <td>5</td>\n",
       "      <td>2</td>\n",
       "      <td>3</td>\n",
       "      <td>3</td>\n",
       "      <td>38687</td>\n",
       "    </tr>\n",
       "    <tr>\n",
       "      <th>1</th>\n",
       "      <td>1</td>\n",
       "      <td>2</td>\n",
       "      <td>23767</td>\n",
       "      <td>3403</td>\n",
       "      <td>4536</td>\n",
       "      <td>1804</td>\n",
       "      <td>3531</td>\n",
       "      <td>2190</td>\n",
       "      <td>2749</td>\n",
       "      <td>3190</td>\n",
       "      <td>...</td>\n",
       "      <td>0</td>\n",
       "      <td>7</td>\n",
       "      <td>1</td>\n",
       "      <td>0</td>\n",
       "      <td>7</td>\n",
       "      <td>6</td>\n",
       "      <td>6</td>\n",
       "      <td>13</td>\n",
       "      <td>7</td>\n",
       "      <td>71840</td>\n",
       "    </tr>\n",
       "    <tr>\n",
       "      <th>All</th>\n",
       "      <td>1</td>\n",
       "      <td>4</td>\n",
       "      <td>38563</td>\n",
       "      <td>5213</td>\n",
       "      <td>6725</td>\n",
       "      <td>2737</td>\n",
       "      <td>5290</td>\n",
       "      <td>3277</td>\n",
       "      <td>4037</td>\n",
       "      <td>4906</td>\n",
       "      <td>...</td>\n",
       "      <td>1</td>\n",
       "      <td>8</td>\n",
       "      <td>1</td>\n",
       "      <td>1</td>\n",
       "      <td>10</td>\n",
       "      <td>11</td>\n",
       "      <td>8</td>\n",
       "      <td>16</td>\n",
       "      <td>10</td>\n",
       "      <td>110527</td>\n",
       "    </tr>\n",
       "  </tbody>\n",
       "</table>\n",
       "<p>3 rows × 132 columns</p>\n",
       "</div>"
      ],
      "text/plain": [
       "Delay   -6  -1      0     1     2     3     4     5     6     7  ...  139  \\\n",
       "Gender                                                           ...        \n",
       "0        0   2  14796  1810  2189   933  1759  1087  1288  1716  ...    1   \n",
       "1        1   2  23767  3403  4536  1804  3531  2190  2749  3190  ...    0   \n",
       "All      1   4  38563  5213  6725  2737  5290  3277  4037  4906  ...    1   \n",
       "\n",
       "Delay   142  146  151  155  162  169  176  179     All  \n",
       "Gender                                                  \n",
       "0         1    0    1    3    5    2    3    3   38687  \n",
       "1         7    1    0    7    6    6   13    7   71840  \n",
       "All       8    1    1   10   11    8   16   10  110527  \n",
       "\n",
       "[3 rows x 132 columns]"
      ]
     },
     "execution_count": 48,
     "metadata": {},
     "output_type": "execute_result"
    }
   ],
   "source": [
    "# Create contingency table \n",
    "GD = pd.crosstab(index=df['Gender'], columns=df['Delay'], margins=True)\n",
    "GD"
   ]
  },
  {
   "cell_type": "code",
   "execution_count": 51,
   "id": "3ca9e49d",
   "metadata": {},
   "outputs": [
    {
     "name": "stdout",
     "output_type": "stream",
     "text": [
      "chi-square statistic: 519.651581316998\n",
      "p-value: 3.590660196919681e-19\n",
      "degree of freedom: 262\n",
      "expected contingency table\n",
      "[[3.50023071e-01 1.40009229e+00 1.34979397e+04 1.82467027e+03\n",
      "  2.35390515e+03 9.58013146e+02 1.85162205e+03 1.14702560e+03\n",
      "  1.41304314e+03 1.71721319e+03 8.16253802e+02 5.61787029e+02\n",
      "  4.86882092e+02 3.45472771e+02 3.90275724e+02 5.88738806e+02\n",
      "  1.01961721e+03 5.26084676e+02 4.02876555e+02 3.87475540e+02\n",
      "  3.57373556e+02 3.65424086e+02 4.15477386e+02 6.51392936e+02\n",
      "  4.10577063e+02 2.87718965e+02 2.17714350e+02 2.22964696e+02\n",
      "  2.55866865e+02 3.54573371e+02 5.97139360e+02 3.81175125e+02\n",
      "  2.46416242e+02 2.35215504e+02 2.05113520e+02 2.32415319e+02\n",
      "  2.82818642e+02 3.37072218e+02 1.92862712e+02 1.15857637e+02\n",
      "  6.96545912e+01 5.95039221e+01 8.89058601e+01 1.19707890e+02\n",
      "  1.45959621e+02 8.89058601e+01 5.49536222e+01 4.79531608e+01\n",
      "  4.23527916e+01 3.81525148e+01 4.09526993e+01 7.56049834e+01\n",
      "  6.37041990e+01 3.18520995e+01 3.15020764e+01 3.36022148e+01\n",
      "  2.55516842e+01 3.81525148e+01 7.10546835e+01 3.43022610e+01\n",
      "  3.85025378e+01 3.15020764e+01 2.55516842e+01 4.72531146e+01\n",
      "  6.75544528e+01 7.00046143e+01 2.62517303e+01 3.39522379e+01\n",
      "  5.67037375e+01 2.20514535e+01 2.45016150e+01 3.67524225e+01\n",
      "  3.92025840e+01 1.75011536e+01 1.85512228e+01 1.29508536e+01\n",
      "  1.36508998e+01 2.52016611e+01 2.27514996e+01 1.85512228e+01\n",
      "  1.15507614e+01 8.05053064e+00 6.30041528e+00 3.50023071e+00\n",
      "  3.50023071e-01 2.80018457e+00 1.89012458e+01 1.29508536e+01\n",
      "  2.10013843e+00 5.60036914e+00 5.60036914e+00 5.95039221e+00\n",
      "  2.03013381e+01 1.96012920e+01 1.05006921e+00 7.00046143e-01\n",
      "  7.00046143e-01 1.75011536e+00 1.40009229e+00 7.00046143e-01\n",
      "  1.75011536e+00 3.50023071e-01 1.40009229e+00 1.75011536e+00\n",
      "  2.80018457e+00 1.40009229e+00 7.00046143e-01 1.75011536e+00\n",
      "  1.75011536e+00 7.00046143e-01 1.75011536e+00 1.75011536e+00\n",
      "  7.00046143e-01 3.50023071e-01 1.40009229e+00 1.05006921e+00\n",
      "  3.50023071e-01 3.50023071e-01 3.50023071e-01 3.50023071e-01\n",
      "  3.50023071e-01 3.85025378e+00 3.50023071e-01 2.80018457e+00\n",
      "  3.50023071e-01 3.50023071e-01 3.50023071e+00 3.85025378e+00\n",
      "  2.80018457e+00 5.60036914e+00 3.50023071e+00 3.86870000e+04]\n",
      " [6.49976929e-01 2.59990771e+00 2.50650603e+04 3.38832973e+03\n",
      "  4.37109485e+03 1.77898685e+03 3.43837795e+03 2.12997440e+03\n",
      "  2.62395686e+03 3.18878681e+03 1.51574620e+03 1.04321297e+03\n",
      "  9.04117908e+02 6.41527229e+02 7.24724276e+02 1.09326119e+03\n",
      "  1.89338279e+03 9.76915324e+02 7.48123445e+02 7.19524460e+02\n",
      "  6.63626444e+02 6.78575914e+02 7.71522614e+02 1.20960706e+03\n",
      "  7.62422937e+02 5.34281035e+02 4.04285650e+02 4.14035304e+02\n",
      "  4.75133135e+02 6.58426629e+02 1.10886064e+03 7.07824875e+02\n",
      "  4.57583758e+02 4.36784496e+02 3.80886480e+02 4.31584681e+02\n",
      "  5.25181358e+02 6.25927782e+02 3.58137288e+02 2.15142363e+02\n",
      "  1.29345409e+02 1.10496078e+02 1.65094140e+02 2.22292110e+02\n",
      "  2.71040379e+02 1.65094140e+02 1.02046378e+02 8.90468392e+01\n",
      "  7.86472084e+01 7.08474852e+01 7.60473007e+01 1.40395017e+02\n",
      "  1.18295801e+02 5.91479005e+01 5.84979236e+01 6.23977852e+01\n",
      "  4.74483158e+01 7.08474852e+01 1.31945317e+02 6.36977390e+01\n",
      "  7.14974622e+01 5.84979236e+01 4.74483158e+01 8.77468854e+01\n",
      "  1.25445547e+02 1.29995386e+02 4.87482697e+01 6.30477621e+01\n",
      "  1.05296262e+02 4.09485465e+01 4.54983850e+01 6.82475775e+01\n",
      "  7.27974160e+01 3.24988464e+01 3.44487772e+01 2.40491464e+01\n",
      "  2.53491002e+01 4.67983389e+01 4.22485004e+01 3.44487772e+01\n",
      "  2.14492386e+01 1.49494694e+01 1.16995847e+01 6.49976929e+00\n",
      "  6.49976929e-01 5.19981543e+00 3.50987542e+01 2.40491464e+01\n",
      "  3.89986157e+00 1.03996309e+01 1.03996309e+01 1.10496078e+01\n",
      "  3.76986619e+01 3.63987080e+01 1.94993079e+00 1.29995386e+00\n",
      "  1.29995386e+00 3.24988464e+00 2.59990771e+00 1.29995386e+00\n",
      "  3.24988464e+00 6.49976929e-01 2.59990771e+00 3.24988464e+00\n",
      "  5.19981543e+00 2.59990771e+00 1.29995386e+00 3.24988464e+00\n",
      "  3.24988464e+00 1.29995386e+00 3.24988464e+00 3.24988464e+00\n",
      "  1.29995386e+00 6.49976929e-01 2.59990771e+00 1.94993079e+00\n",
      "  6.49976929e-01 6.49976929e-01 6.49976929e-01 6.49976929e-01\n",
      "  6.49976929e-01 7.14974622e+00 6.49976929e-01 5.19981543e+00\n",
      "  6.49976929e-01 6.49976929e-01 6.49976929e+00 7.14974622e+00\n",
      "  5.19981543e+00 1.03996309e+01 6.49976929e+00 7.18400000e+04]\n",
      " [1.00000000e+00 4.00000000e+00 3.85630000e+04 5.21300000e+03\n",
      "  6.72500000e+03 2.73700000e+03 5.29000000e+03 3.27700000e+03\n",
      "  4.03700000e+03 4.90600000e+03 2.33200000e+03 1.60500000e+03\n",
      "  1.39100000e+03 9.87000000e+02 1.11500000e+03 1.68200000e+03\n",
      "  2.91300000e+03 1.50300000e+03 1.15100000e+03 1.10700000e+03\n",
      "  1.02100000e+03 1.04400000e+03 1.18700000e+03 1.86100000e+03\n",
      "  1.17300000e+03 8.22000000e+02 6.22000000e+02 6.37000000e+02\n",
      "  7.31000000e+02 1.01300000e+03 1.70600000e+03 1.08900000e+03\n",
      "  7.04000000e+02 6.72000000e+02 5.86000000e+02 6.64000000e+02\n",
      "  8.08000000e+02 9.63000000e+02 5.51000000e+02 3.31000000e+02\n",
      "  1.99000000e+02 1.70000000e+02 2.54000000e+02 3.42000000e+02\n",
      "  4.17000000e+02 2.54000000e+02 1.57000000e+02 1.37000000e+02\n",
      "  1.21000000e+02 1.09000000e+02 1.17000000e+02 2.16000000e+02\n",
      "  1.82000000e+02 9.10000000e+01 9.00000000e+01 9.60000000e+01\n",
      "  7.30000000e+01 1.09000000e+02 2.03000000e+02 9.80000000e+01\n",
      "  1.10000000e+02 9.00000000e+01 7.30000000e+01 1.35000000e+02\n",
      "  1.93000000e+02 2.00000000e+02 7.50000000e+01 9.70000000e+01\n",
      "  1.62000000e+02 6.30000000e+01 7.00000000e+01 1.05000000e+02\n",
      "  1.12000000e+02 5.00000000e+01 5.30000000e+01 3.70000000e+01\n",
      "  3.90000000e+01 7.20000000e+01 6.50000000e+01 5.30000000e+01\n",
      "  3.30000000e+01 2.30000000e+01 1.80000000e+01 1.00000000e+01\n",
      "  1.00000000e+00 8.00000000e+00 5.40000000e+01 3.70000000e+01\n",
      "  6.00000000e+00 1.60000000e+01 1.60000000e+01 1.70000000e+01\n",
      "  5.80000000e+01 5.60000000e+01 3.00000000e+00 2.00000000e+00\n",
      "  2.00000000e+00 5.00000000e+00 4.00000000e+00 2.00000000e+00\n",
      "  5.00000000e+00 1.00000000e+00 4.00000000e+00 5.00000000e+00\n",
      "  8.00000000e+00 4.00000000e+00 2.00000000e+00 5.00000000e+00\n",
      "  5.00000000e+00 2.00000000e+00 5.00000000e+00 5.00000000e+00\n",
      "  2.00000000e+00 1.00000000e+00 4.00000000e+00 3.00000000e+00\n",
      "  1.00000000e+00 1.00000000e+00 1.00000000e+00 1.00000000e+00\n",
      "  1.00000000e+00 1.10000000e+01 1.00000000e+00 8.00000000e+00\n",
      "  1.00000000e+00 1.00000000e+00 1.00000000e+01 1.10000000e+01\n",
      "  8.00000000e+00 1.60000000e+01 1.00000000e+01 1.10527000e+05]]\n"
     ]
    }
   ],
   "source": [
    "# chi-square test\n",
    "chiRes = stats.chi2_contingency(GD)\n",
    "print(f'chi-square statistic: {chiRes[0]}')\n",
    "print(f'p-value: {chiRes[1]}')\n",
    "print(f'degree of freedom: {chiRes[2]}')\n",
    "print('expected contingency table') \n",
    "print(chiRes[3])"
   ]
  },
  {
   "cell_type": "markdown",
   "id": "2dc115f7",
   "metadata": {},
   "source": [
    "With a p-value of more than 0.05 (which is 3.59), we fail to reject the null hypothesis.\n",
    "(H0: no relationship between the 2 variables)\n",
    "\n",
    "A p-value higher than one (as 3.59) means that a probability greater than 100%. This is not possible."
   ]
  },
  {
   "cell_type": "code",
   "execution_count": null,
   "id": "0a6217fc",
   "metadata": {},
   "outputs": [],
   "source": []
  },
  {
   "cell_type": "code",
   "execution_count": null,
   "id": "2e175773",
   "metadata": {},
   "outputs": [],
   "source": []
  },
  {
   "cell_type": "code",
   "execution_count": null,
   "id": "07b7950d",
   "metadata": {},
   "outputs": [],
   "source": []
  },
  {
   "cell_type": "markdown",
   "id": "571d7a1d",
   "metadata": {},
   "source": [
    "Checking the Normality of Data : Shapiro-Wilks test :: #The test has limitations, most importantly that the test has a bias by sample size. The larger the sample, the more likely you’ll get a statistically significant result."
   ]
  },
  {
   "cell_type": "code",
   "execution_count": 36,
   "id": "ca629a8b",
   "metadata": {
    "scrolled": true
   },
   "outputs": [
    {
     "ename": "ValueError",
     "evalue": "Data must be at least length 3.",
     "output_type": "error",
     "traceback": [
      "\u001b[0;31m---------------------------------------------------------------------------\u001b[0m",
      "\u001b[0;31mValueError\u001b[0m                                Traceback (most recent call last)",
      "\u001b[0;32m/var/folders/k4/ss07k4095qddhthn_dw8b3jr0000gn/T/ipykernel_32294/1026549672.py\u001b[0m in \u001b[0;36m<module>\u001b[0;34m\u001b[0m\n\u001b[0;32m----> 1\u001b[0;31m \u001b[0mstats\u001b[0m\u001b[0;34m.\u001b[0m\u001b[0mshapiro\u001b[0m\u001b[0;34m(\u001b[0m\u001b[0mmale\u001b[0m\u001b[0;34m)\u001b[0m\u001b[0;34m\u001b[0m\u001b[0;34m\u001b[0m\u001b[0m\n\u001b[0m",
      "\u001b[0;32m/opt/homebrew/Caskroom/miniconda/base/lib/python3.9/site-packages/scipy/stats/morestats.py\u001b[0m in \u001b[0;36mshapiro\u001b[0;34m(x)\u001b[0m\n\u001b[1;32m   1747\u001b[0m     \u001b[0mN\u001b[0m \u001b[0;34m=\u001b[0m \u001b[0mlen\u001b[0m\u001b[0;34m(\u001b[0m\u001b[0mx\u001b[0m\u001b[0;34m)\u001b[0m\u001b[0;34m\u001b[0m\u001b[0;34m\u001b[0m\u001b[0m\n\u001b[1;32m   1748\u001b[0m     \u001b[0;32mif\u001b[0m \u001b[0mN\u001b[0m \u001b[0;34m<\u001b[0m \u001b[0;36m3\u001b[0m\u001b[0;34m:\u001b[0m\u001b[0;34m\u001b[0m\u001b[0;34m\u001b[0m\u001b[0m\n\u001b[0;32m-> 1749\u001b[0;31m         \u001b[0;32mraise\u001b[0m \u001b[0mValueError\u001b[0m\u001b[0;34m(\u001b[0m\u001b[0;34m\"Data must be at least length 3.\"\u001b[0m\u001b[0;34m)\u001b[0m\u001b[0;34m\u001b[0m\u001b[0;34m\u001b[0m\u001b[0m\n\u001b[0m\u001b[1;32m   1750\u001b[0m \u001b[0;34m\u001b[0m\u001b[0m\n\u001b[1;32m   1751\u001b[0m     \u001b[0ma\u001b[0m \u001b[0;34m=\u001b[0m \u001b[0mzeros\u001b[0m\u001b[0;34m(\u001b[0m\u001b[0mN\u001b[0m\u001b[0;34m,\u001b[0m \u001b[0;34m'f'\u001b[0m\u001b[0;34m)\u001b[0m\u001b[0;34m\u001b[0m\u001b[0;34m\u001b[0m\u001b[0m\n",
      "\u001b[0;31mValueError\u001b[0m: Data must be at least length 3."
     ]
    }
   ],
   "source": [
    "stats.shapiro(male)"
   ]
  },
  {
   "cell_type": "markdown",
   "id": "a27e4944",
   "metadata": {},
   "source": [
    "So that, I will try a quantile-quantile plot to see the normality.\n"
   ]
  },
  {
   "cell_type": "code",
   "execution_count": 38,
   "id": "6b158533",
   "metadata": {},
   "outputs": [
    {
     "data": {
      "image/png": "[encoded data removed]",
      "text/plain": [
       "<Figure size 432x288 with 1 Axes>"
      ]
     },
     "metadata": {
      "needs_background": "light"
     },
     "output_type": "display_data"
    }
   ],
   "source": [
    "sm.qqplot(male, line ='45')\n",
    "py.show()"
   ]
  },
  {
   "cell_type": "code",
   "execution_count": null,
   "id": "ff331cae",
   "metadata": {},
   "outputs": [],
   "source": []
  },
  {
   "cell_type": "code",
   "execution_count": null,
   "id": "f25baead",
   "metadata": {},
   "outputs": [],
   "source": []
  },
  {
   "cell_type": "code",
   "execution_count": null,
   "id": "16358acb",
   "metadata": {},
   "outputs": [],
   "source": []
  },
  {
   "cell_type": "code",
   "execution_count": null,
   "id": "68ce9925",
   "metadata": {},
   "outputs": [],
   "source": []
  },
  {
   "cell_type": "code",
   "execution_count": null,
   "id": "54ae9300",
   "metadata": {},
   "outputs": [],
   "source": []
  },
  {
   "cell_type": "code",
   "execution_count": 22,
   "id": "d1943834",
   "metadata": {},
   "outputs": [
    {
     "name": "stderr",
     "output_type": "stream",
     "text": [
      "/opt/homebrew/Caskroom/miniconda/base/lib/python3.9/site-packages/numpy/core/_methods.py:262: RuntimeWarning: Degrees of freedom <= 0 for slice\n",
      "  ret = _var(a, axis=axis, dtype=dtype, out=out, ddof=ddof,\n",
      "/opt/homebrew/Caskroom/miniconda/base/lib/python3.9/site-packages/numpy/core/_methods.py:222: RuntimeWarning: invalid value encountered in true_divide\n",
      "  arrmean = um.true_divide(arrmean, div, out=arrmean, casting='unsafe',\n",
      "/opt/homebrew/Caskroom/miniconda/base/lib/python3.9/site-packages/numpy/core/_methods.py:254: RuntimeWarning: invalid value encountered in double_scalars\n",
      "  ret = ret.dtype.type(ret / rcount)\n"
     ]
    },
    {
     "data": {
      "text/plain": [
       "(   Variable    N  Mean  SD  SE  95% Conf.  Interval\n",
       " 0      Male  0.0   NaN NaN NaN        NaN       NaN\n",
       " 1    Female  0.0   NaN NaN NaN        NaN       NaN\n",
       " 2  combined  0.0   NaN NaN NaN        NaN       NaN,\n",
       "               Independent t-test  results\n",
       " 0  Difference (Male - Female) =       NaN\n",
       " 1          Degrees of freedom =      -2.0\n",
       " 2                           t =       NaN\n",
       " 3       Two side test p value =       NaN\n",
       " 4      Difference < 0 p value =       NaN\n",
       " 5      Difference > 0 p value =       NaN\n",
       " 6                   Cohen's d =       NaN\n",
       " 7                   Hedge's g =       NaN\n",
       " 8               Glass's delta =       NaN\n",
       " 9                 Pearson's r =       NaN)"
      ]
     },
     "execution_count": 22,
     "metadata": {},
     "output_type": "execute_result"
    }
   ],
   "source": [
    "rp.ttest(group1= df['Delay'][df['Gender'] == '0'], group1_name= \"Male\",\n",
    "         group2= df['Delay'][df['Gender'] == '1'], group2_name= \"Female\")"
   ]
  },
  {
   "cell_type": "code",
   "execution_count": 21,
   "id": "a411b6a3",
   "metadata": {},
   "outputs": [
    {
     "name": "stderr",
     "output_type": "stream",
     "text": [
      "/opt/homebrew/Caskroom/miniconda/base/lib/python3.9/site-packages/numpy/core/_methods.py:262: RuntimeWarning: Degrees of freedom <= 0 for slice\n",
      "  ret = _var(a, axis=axis, dtype=dtype, out=out, ddof=ddof,\n",
      "/opt/homebrew/Caskroom/miniconda/base/lib/python3.9/site-packages/numpy/core/_methods.py:222: RuntimeWarning: invalid value encountered in true_divide\n",
      "  arrmean = um.true_divide(arrmean, div, out=arrmean, casting='unsafe',\n",
      "/opt/homebrew/Caskroom/miniconda/base/lib/python3.9/site-packages/numpy/core/_methods.py:254: RuntimeWarning: invalid value encountered in double_scalars\n",
      "  ret = ret.dtype.type(ret / rcount)\n"
     ]
    },
    {
     "data": {
      "text/plain": [
       "(   Variable    N  Mean  SD  SE  95% Conf.  Interval\n",
       " 0       Yes  0.0   NaN NaN NaN        NaN       NaN\n",
       " 1        No  0.0   NaN NaN NaN        NaN       NaN\n",
       " 2  combined  0.0   NaN NaN NaN        NaN       NaN,\n",
       "           Independent t-test  results\n",
       " 0   Difference (Yes - No) =       NaN\n",
       " 1      Degrees of freedom =      -2.0\n",
       " 2                       t =       NaN\n",
       " 3   Two side test p value =       NaN\n",
       " 4  Difference < 0 p value =       NaN\n",
       " 5  Difference > 0 p value =       NaN\n",
       " 6               Cohen's d =       NaN\n",
       " 7               Hedge's g =       NaN\n",
       " 8           Glass's delta =       NaN\n",
       " 9             Pearson's r =       NaN)"
      ]
     },
     "execution_count": 21,
     "metadata": {},
     "output_type": "execute_result"
    }
   ],
   "source": [
    "rp.ttest(group1= df['Delay'][df['Alcoholism'] == '0'], group1_name= \"Yes\",\n",
    "         group2= df['Delay'][df['Alcoholism'] == '1'], group2_name= \"No\")"
   ]
  },
  {
   "cell_type": "markdown",
   "id": "6a06c036",
   "metadata": {},
   "source": [
    "A negative degree of freedom is valid == Overfitting\n",
    "\n",
    "It suggests that we have more statistics than we have values that can change. In this case, we have more parameters in the model than we have rows of data or observations to train the model. "
   ]
  },
  {
   "cell_type": "markdown",
   "id": "2d781fa3",
   "metadata": {},
   "source": [
    "# EDA"
   ]
  },
  {
   "cell_type": "markdown",
   "id": "2a7022d0",
   "metadata": {},
   "source": [
    "### Q1: Is there any relation between the age of the patient and having a delay on the date of appointment.\n",
    "Hypotheses 1: I expect that people between 37-55 ages have mostly delay because of they are the major group.\n"
   ]
  },
  {
   "cell_type": "code",
   "execution_count": 18,
   "id": "06df3989",
   "metadata": {},
   "outputs": [
    {
     "data": {
      "text/plain": [
       "38.502563960032795"
      ]
     },
     "execution_count": 18,
     "metadata": {},
     "output_type": "execute_result"
    }
   ],
   "source": [
    "df.Age[delayed].mean() "
   ]
  },
  {
   "cell_type": "code",
   "execution_count": 19,
   "id": "d46726cf",
   "metadata": {},
   "outputs": [
    {
     "data": {
      "text/plain": [
       "34.45139122993543"
      ]
     },
     "execution_count": 19,
     "metadata": {},
     "output_type": "execute_result"
    }
   ],
   "source": [
    "df.Age[ontime].mean()"
   ]
  },
  {
   "cell_type": "code",
   "execution_count": 20,
   "id": "6137d4d4",
   "metadata": {},
   "outputs": [
    {
     "ename": "NameError",
     "evalue": "name 'earlier' is not defined",
     "output_type": "error",
     "traceback": [
      "\u001b[0;31m---------------------------------------------------------------------------\u001b[0m",
      "\u001b[0;31mNameError\u001b[0m                                 Traceback (most recent call last)",
      "\u001b[0;32m/var/folders/k4/ss07k4095qddhthn_dw8b3jr0000gn/T/ipykernel_32294/2962612408.py\u001b[0m in \u001b[0;36m<module>\u001b[0;34m\u001b[0m\n\u001b[0;32m----> 1\u001b[0;31m \u001b[0mdf\u001b[0m\u001b[0;34m.\u001b[0m\u001b[0mAge\u001b[0m\u001b[0;34m[\u001b[0m\u001b[0mearlier\u001b[0m\u001b[0;34m]\u001b[0m\u001b[0;34m.\u001b[0m\u001b[0mmean\u001b[0m\u001b[0;34m(\u001b[0m\u001b[0;34m)\u001b[0m\u001b[0;34m\u001b[0m\u001b[0;34m\u001b[0m\u001b[0m\n\u001b[0m",
      "\u001b[0;31mNameError\u001b[0m: name 'earlier' is not defined"
     ]
    }
   ],
   "source": [
    "df.Age[earlier].mean()"
   ]
  },
  {
   "cell_type": "markdown",
   "id": "7b9e0af9",
   "metadata": {},
   "source": [
    "It is seen that younger than 35 age people are more careful about not delaying their appointments. Let's see the distribution of them."
   ]
  },
  {
   "cell_type": "code",
   "execution_count": null,
   "id": "879db45d",
   "metadata": {},
   "outputs": [],
   "source": [
    "df.Age[delayed].hist(alpha=0.5,bins=10, label='delayed')\n",
    "df.Age[ontime].hist(alpha=0.5,bins=10, label='ontime')\n",
    "df.Age[earlier].hist(alpha=0.5,bins=10, label='earlier')\n",
    "plt.legend();"
   ]
  },
  {
   "cell_type": "markdown",
   "id": "997a547e",
   "metadata": {},
   "source": [
    "**Answer 1: According to the distribution graph, there people averagely came on time in the age of 34 but also there are a lot of people who delayed in that age, too.**"
   ]
  },
  {
   "cell_type": "code",
   "execution_count": null,
   "id": "67f3b1fd",
   "metadata": {},
   "outputs": [],
   "source": [
    "df.Age[earlier].hist(alpha=0.5,bins=20, label='earlier')\n",
    "plt.legend();"
   ]
  },
  {
   "cell_type": "markdown",
   "id": "c149e607",
   "metadata": {},
   "source": [
    "We cannot say younger person comes 'earlier' then their appointment."
   ]
  },
  {
   "cell_type": "markdown",
   "id": "2d7cb963",
   "metadata": {},
   "source": [
    "## Q2: Is there any relation between gender and delaying appointment?\n"
   ]
  },
  {
   "cell_type": "code",
   "execution_count": null,
   "id": "79735eaf",
   "metadata": {},
   "outputs": [],
   "source": [
    "df.groupby('Gender').Delay.mean()"
   ]
  },
  {
   "cell_type": "code",
   "execution_count": null,
   "id": "a4783ec3",
   "metadata": {},
   "outputs": [],
   "source": [
    "df.groupby('Gender').Delay.mean().plot(kind='bar');"
   ]
  },
  {
   "cell_type": "markdown",
   "id": "f1efdf78",
   "metadata": {},
   "source": [
    "Although they are close, females more tend to delay than males."
   ]
  },
  {
   "cell_type": "code",
   "execution_count": null,
   "id": "d79f4b30",
   "metadata": {},
   "outputs": [],
   "source": [
    "df.Gender.value_counts()  #Is the result related to the number of females?"
   ]
  },
  {
   "cell_type": "markdown",
   "id": "6fdf3ce9",
   "metadata": {},
   "source": [
    "No, the number of females and males explains the number of female are more than double of males. "
   ]
  },
  {
   "cell_type": "code",
   "execution_count": null,
   "id": "487836af",
   "metadata": {},
   "outputs": [],
   "source": [
    "df.groupby('Scholarship')['Gender'].value_counts() #Is the result related to having a scholarship?"
   ]
  },
  {
   "cell_type": "markdown",
   "id": "a9d2889a",
   "metadata": {},
   "source": [
    "No, females have more scholarship than males.\n",
    "\n",
    "**Answer 2 : It is  clear that females are more likely to delay their appointments.**"
   ]
  },
  {
   "cell_type": "markdown",
   "id": "fa5ba443",
   "metadata": {},
   "source": [
    "## Q3: Do people delay more their appointment when they have no-scholarship?\n",
    "\n"
   ]
  },
  {
   "cell_type": "code",
   "execution_count": null,
   "id": "b33fc05f",
   "metadata": {
    "scrolled": true
   },
   "outputs": [],
   "source": [
    "df.groupby('No-show').Scholarship.mean()"
   ]
  },
  {
   "cell_type": "code",
   "execution_count": null,
   "id": "d0fee3d0",
   "metadata": {
    "scrolled": true
   },
   "outputs": [],
   "source": [
    "df.groupby('No-show').Scholarship.count()"
   ]
  },
  {
   "cell_type": "code",
   "execution_count": null,
   "id": "5d5f228c",
   "metadata": {
    "scrolled": true
   },
   "outputs": [],
   "source": [
    "df.groupby('No-show').Scholarship.value_counts().plot(kind= 'line')"
   ]
  },
  {
   "cell_type": "markdown",
   "id": "084f7cca",
   "metadata": {},
   "source": [
    "**Answer 3: People who have scholarship are less tend to appointment delay.**"
   ]
  },
  {
   "cell_type": "markdown",
   "id": "ddd5ad5c",
   "metadata": {},
   "source": [
    "## Q4: Is there any relationship between gender have scholarship and delay the appointment?\n"
   ]
  },
  {
   "cell_type": "code",
   "execution_count": null,
   "id": "cd5cc8fe",
   "metadata": {},
   "outputs": [],
   "source": [
    "df.groupby(['Scholarship', 'Gender']).Delay.mean().plot(kind='bar');"
   ]
  },
  {
   "cell_type": "markdown",
   "id": "67a57181",
   "metadata": {},
   "source": [
    "**Answer: Both males and fames are delay more when they have no scholarship.**"
   ]
  },
  {
   "cell_type": "markdown",
   "id": "395f05e0",
   "metadata": {},
   "source": [
    "## Q5: Which gender has more appointment in which illness?"
   ]
  },
  {
   "cell_type": "code",
   "execution_count": null,
   "id": "7ef685f5",
   "metadata": {},
   "outputs": [],
   "source": [
    "df.groupby('Gender').Hipertension.mean()"
   ]
  },
  {
   "cell_type": "code",
   "execution_count": null,
   "id": "96ba7f76",
   "metadata": {},
   "outputs": [],
   "source": [
    "df.groupby('Gender').Hipertension.mean().plot(kind='bar')"
   ]
  },
  {
   "cell_type": "markdown",
   "id": "3b0832dd",
   "metadata": {},
   "source": [
    "**Answer 5.1: Females are more likely to make an appointment for hipertension.**"
   ]
  },
  {
   "cell_type": "code",
   "execution_count": null,
   "id": "946a6d1a",
   "metadata": {},
   "outputs": [],
   "source": [
    "df.groupby('Gender').Alcoholism.mean().plot(kind='bar')"
   ]
  },
  {
   "cell_type": "markdown",
   "id": "a70c181d",
   "metadata": {},
   "source": [
    "**Answer 5.2: Males are more likely to make an appointment for alcoholism.**"
   ]
  },
  {
   "cell_type": "code",
   "execution_count": null,
   "id": "22d694b5",
   "metadata": {},
   "outputs": [],
   "source": [
    "df.groupby('Gender').Diabetes.mean().plot(kind='bar')"
   ]
  },
  {
   "cell_type": "markdown",
   "id": "aa4f52b6",
   "metadata": {},
   "source": [
    "**Answer 5.3: Females are more likely to make an appointment for diabetes.**"
   ]
  },
  {
   "cell_type": "code",
   "execution_count": null,
   "id": "a53cd43c",
   "metadata": {},
   "outputs": [],
   "source": [
    "df.groupby('Gender').Diabetes.mean().plot(kind='bar', color='blue')\n",
    "df.groupby('Gender').Alcoholism.mean().plot(kind='bar', color='black')\n",
    "#df.groupby('Gender').Hipertension.mean().plot(kind='bar', color='green')\n",
    "plt.legend();"
   ]
  },
  {
   "cell_type": "markdown",
   "id": "e1431632",
   "metadata": {},
   "source": [
    "## Q6: Does a person suffer from alcoholism tend to delay appointments?"
   ]
  },
  {
   "cell_type": "code",
   "execution_count": null,
   "id": "31c8026e",
   "metadata": {},
   "outputs": [],
   "source": [
    "df.Alcoholism[delayed].value_counts().plot(kind='line', color= 'red', label='delayed')\n",
    "df.Alcoholism[ontime].value_counts().plot(kind='line', color= 'purple', label='ontime')\n",
    "plt.title('Appointment delay relation with alcoholism')\n",
    "plt.xlabel('Alcoholism')\n",
    "plt.ylabel('# of patients')\n",
    "plt.legend();"
   ]
  },
  {
   "cell_type": "code",
   "execution_count": null,
   "id": "ec54552c",
   "metadata": {},
   "outputs": [],
   "source": [
    "df.Alcoholism[delayed].value_counts()"
   ]
  },
  {
   "cell_type": "code",
   "execution_count": null,
   "id": "1acc75ef",
   "metadata": {},
   "outputs": [],
   "source": [
    "df.Alcoholism.count()"
   ]
  },
  {
   "cell_type": "code",
   "execution_count": null,
   "id": "386b9122",
   "metadata": {},
   "outputs": [],
   "source": [
    "df.groupby('No-show').Alcoholism.count()"
   ]
  },
  {
   "cell_type": "markdown",
   "id": "29185ef6",
   "metadata": {},
   "source": [
    "**Answer 6 : No, people suffer from alcoholism less tend to delay.**"
   ]
  },
  {
   "cell_type": "markdown",
   "id": "e05dba2c",
   "metadata": {},
   "source": [
    "# Conclusion"
   ]
  },
  {
   "cell_type": "code",
   "execution_count": null,
   "id": "0bddaca5",
   "metadata": {},
   "outputs": [],
   "source": []
  }
 ],
 "metadata": {
  "kernelspec": {
   "display_name": "Python 3.9.5 64-bit ('base': conda)",
   "language": "python",
   "name": "python395jvsc74a57bd0e7cb1b9ae4d417fedf7f40a8eec98f7cfbd359e096bd857395a915f4609834ce"
  },
  "language_info": {
   "codemirror_mode": {
    "name": "ipython",
    "version": 3
   },
   "file_extension": ".py",
   "mimetype": "text/x-python",
   "name": "python",
   "nbconvert_exporter": "python",
   "pygments_lexer": "ipython3",
   "version": "3.9.5"
  },
  "toc": {
   "base_numbering": 1,
   "nav_menu": {},
   "number_sections": true,
   "sideBar": true,
   "skip_h1_title": false,
   "title_cell": "Table of Contents",
   "title_sidebar": "Contents",
   "toc_cell": false,
   "toc_position": {},
   "toc_section_display": true,
   "toc_window_display": false
  }
 },
 "nbformat": 4,
 "nbformat_minor": 5
}
