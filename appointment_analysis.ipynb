{
 "cells": [
  {
   "cell_type": "markdown",
   "id": "396bcbde",
   "metadata": {},
   "source": [
    "# Appointment Analysis for Brazil \n",
    "\n",
    "## Table of Contents\n",
    "<ul>\n",
    "<li><a href=\"#intro\">Introduction</a></li>\n",
    "<li><a href=\"#wrangling\">Data Munging</a></li>\n",
    "<li><a href=\"#eda\">EDA and Answers</a></li>\n",
    "</ul>"
   ]
  },
  {
   "cell_type": "markdown",
   "id": "cfb2637f",
   "metadata": {},
   "source": [
    "# Introduction\n",
    "\n",
    "## Data Source & Attributes\n",
    "\n",
    "\"This dataset collects information from 100k medical appointments in Brazil and is focused on the question of whether or not patients show up for their appointment. A number of characteristics about the patient are included in each row.\"\n",
    "\n",
    "Data Source : Udacity-Data Analist Nanodegree Program & https://www.kaggle.com/joniarroba/noshowappointments\n",
    "\n",
    "|Attributes|Describtion|Data Type|\n",
    "|:-----------:|:----------------------------:|:----------------------------:|\n",
    "|PatientId|identification of the patient|numeric|\n",
    "|AppointmentID|identification of the appointment|numeric|\n",
    "|Gender|gender of the patient as M or F|string|\n",
    "|ScheduledDay|what day the patient set up their appointment|---|\n",
    "|AppointmentDay|the day of patient should actually go for treatment|---|\n",
    "|Age|age of the patient|numeric|\n",
    "|Neighbourhood| the location of the hospital|string|\n",
    "|Scholarship|whether or not the patient is enrolled in Brasilian welfare program `Bolsa Família`|boolean|\n",
    "|Hipertension|true or false|boolean|\n",
    "|Diabetes|true or false|boolean|\n",
    "|Alcoholism|true or false|boolean|\n",
    "|Handcap|true or false|boolean|\n",
    "|SMS_received|1 or more messages sent to the patient|boolean|\n",
    "|No-show|it says ‘No’ if the patient showed up to their appointment, and ‘Yes’ if they did not show up.|string|\n"
   ]
  },
  {
   "cell_type": "markdown",
   "id": "1365455d",
   "metadata": {},
   "source": [
    "## Questions related to the data\n",
    "\n",
    "Q1: Is there any relation between the age of the patient and having a delay on the date of appointment.\n",
    "\n",
    "Q2: Is there any relation between gender and delaying appointment?\n",
    "\n",
    "Q3: Do people delay more their appointment when they have no-scholarship?\n",
    "\n",
    "Q4: Is there any relationship between gender have scholarship and delay the appointment?\n",
    "\n",
    "Q5: Which gender has more appointment in which illness?\n",
    "\n",
    "Q6: Does a person suffer from alcoholism tend to delay appointments?"
   ]
  },
  {
   "cell_type": "markdown",
   "id": "794daccb",
   "metadata": {},
   "source": [
    "## Importing Libraries"
   ]
  },
  {
   "cell_type": "code",
   "execution_count": 1,
   "id": "103295fd",
   "metadata": {},
   "outputs": [],
   "source": [
    "import numpy as np\n",
    "import pandas as pd\n",
    "import matplotlib.pyplot as plt\n",
    "import seaborn as sns\n",
    "%matplotlib inline"
   ]
  },
  {
   "cell_type": "markdown",
   "id": "d3889647",
   "metadata": {},
   "source": [
    "# Data Munging"
   ]
  },
  {
   "cell_type": "markdown",
   "id": "948cfb14",
   "metadata": {},
   "source": [
    "## Gathering Data"
   ]
  },
  {
   "cell_type": "code",
   "execution_count": 2,
   "id": "1e633188",
   "metadata": {},
   "outputs": [
    {
     "data": {
      "text/html": [
       "<div>\n",
       "<style scoped>\n",
       "    .dataframe tbody tr th:only-of-type {\n",
       "        vertical-align: middle;\n",
       "    }\n",
       "\n",
       "    .dataframe tbody tr th {\n",
       "        vertical-align: top;\n",
       "    }\n",
       "\n",
       "    .dataframe thead th {\n",
       "        text-align: right;\n",
       "    }\n",
       "</style>\n",
       "<table border=\"1\" class=\"dataframe\">\n",
       "  <thead>\n",
       "    <tr style=\"text-align: right;\">\n",
       "      <th></th>\n",
       "      <th>PatientId</th>\n",
       "      <th>AppointmentID</th>\n",
       "      <th>Gender</th>\n",
       "      <th>ScheduledDay</th>\n",
       "      <th>AppointmentDay</th>\n",
       "      <th>Age</th>\n",
       "      <th>Neighbourhood</th>\n",
       "      <th>Scholarship</th>\n",
       "      <th>Hipertension</th>\n",
       "      <th>Diabetes</th>\n",
       "      <th>Alcoholism</th>\n",
       "      <th>Handcap</th>\n",
       "      <th>SMS_received</th>\n",
       "      <th>No-show</th>\n",
       "    </tr>\n",
       "  </thead>\n",
       "  <tbody>\n",
       "    <tr>\n",
       "      <th>0</th>\n",
       "      <td>2.987250e+13</td>\n",
       "      <td>5642903</td>\n",
       "      <td>F</td>\n",
       "      <td>2016-04-29T18:38:08Z</td>\n",
       "      <td>2016-04-29T00:00:00Z</td>\n",
       "      <td>62</td>\n",
       "      <td>JARDIM DA PENHA</td>\n",
       "      <td>0</td>\n",
       "      <td>1</td>\n",
       "      <td>0</td>\n",
       "      <td>0</td>\n",
       "      <td>0</td>\n",
       "      <td>0</td>\n",
       "      <td>No</td>\n",
       "    </tr>\n",
       "    <tr>\n",
       "      <th>1</th>\n",
       "      <td>5.589978e+14</td>\n",
       "      <td>5642503</td>\n",
       "      <td>M</td>\n",
       "      <td>2016-04-29T16:08:27Z</td>\n",
       "      <td>2016-04-29T00:00:00Z</td>\n",
       "      <td>56</td>\n",
       "      <td>JARDIM DA PENHA</td>\n",
       "      <td>0</td>\n",
       "      <td>0</td>\n",
       "      <td>0</td>\n",
       "      <td>0</td>\n",
       "      <td>0</td>\n",
       "      <td>0</td>\n",
       "      <td>No</td>\n",
       "    </tr>\n",
       "    <tr>\n",
       "      <th>2</th>\n",
       "      <td>4.262962e+12</td>\n",
       "      <td>5642549</td>\n",
       "      <td>F</td>\n",
       "      <td>2016-04-29T16:19:04Z</td>\n",
       "      <td>2016-04-29T00:00:00Z</td>\n",
       "      <td>62</td>\n",
       "      <td>MATA DA PRAIA</td>\n",
       "      <td>0</td>\n",
       "      <td>0</td>\n",
       "      <td>0</td>\n",
       "      <td>0</td>\n",
       "      <td>0</td>\n",
       "      <td>0</td>\n",
       "      <td>No</td>\n",
       "    </tr>\n",
       "    <tr>\n",
       "      <th>3</th>\n",
       "      <td>8.679512e+11</td>\n",
       "      <td>5642828</td>\n",
       "      <td>F</td>\n",
       "      <td>2016-04-29T17:29:31Z</td>\n",
       "      <td>2016-04-29T00:00:00Z</td>\n",
       "      <td>8</td>\n",
       "      <td>PONTAL DE CAMBURI</td>\n",
       "      <td>0</td>\n",
       "      <td>0</td>\n",
       "      <td>0</td>\n",
       "      <td>0</td>\n",
       "      <td>0</td>\n",
       "      <td>0</td>\n",
       "      <td>No</td>\n",
       "    </tr>\n",
       "    <tr>\n",
       "      <th>4</th>\n",
       "      <td>8.841186e+12</td>\n",
       "      <td>5642494</td>\n",
       "      <td>F</td>\n",
       "      <td>2016-04-29T16:07:23Z</td>\n",
       "      <td>2016-04-29T00:00:00Z</td>\n",
       "      <td>56</td>\n",
       "      <td>JARDIM DA PENHA</td>\n",
       "      <td>0</td>\n",
       "      <td>1</td>\n",
       "      <td>1</td>\n",
       "      <td>0</td>\n",
       "      <td>0</td>\n",
       "      <td>0</td>\n",
       "      <td>No</td>\n",
       "    </tr>\n",
       "  </tbody>\n",
       "</table>\n",
       "</div>"
      ],
      "text/plain": [
       "      PatientId  AppointmentID Gender          ScheduledDay  \\\n",
       "0  2.987250e+13        5642903      F  2016-04-29T18:38:08Z   \n",
       "1  5.589978e+14        5642503      M  2016-04-29T16:08:27Z   \n",
       "2  4.262962e+12        5642549      F  2016-04-29T16:19:04Z   \n",
       "3  8.679512e+11        5642828      F  2016-04-29T17:29:31Z   \n",
       "4  8.841186e+12        5642494      F  2016-04-29T16:07:23Z   \n",
       "\n",
       "         AppointmentDay  Age      Neighbourhood  Scholarship  Hipertension  \\\n",
       "0  2016-04-29T00:00:00Z   62    JARDIM DA PENHA            0             1   \n",
       "1  2016-04-29T00:00:00Z   56    JARDIM DA PENHA            0             0   \n",
       "2  2016-04-29T00:00:00Z   62      MATA DA PRAIA            0             0   \n",
       "3  2016-04-29T00:00:00Z    8  PONTAL DE CAMBURI            0             0   \n",
       "4  2016-04-29T00:00:00Z   56    JARDIM DA PENHA            0             1   \n",
       "\n",
       "   Diabetes  Alcoholism  Handcap  SMS_received No-show  \n",
       "0         0           0        0             0      No  \n",
       "1         0           0        0             0      No  \n",
       "2         0           0        0             0      No  \n",
       "3         0           0        0             0      No  \n",
       "4         1           0        0             0      No  "
      ]
     },
     "execution_count": 2,
     "metadata": {},
     "output_type": "execute_result"
    }
   ],
   "source": [
    "df = pd.read_csv('./data/dataset.csv')\n",
    "df.head()"
   ]
  },
  {
   "cell_type": "markdown",
   "id": "d9249dc6",
   "metadata": {},
   "source": [
    "## Assessing Data "
   ]
  },
  {
   "cell_type": "code",
   "execution_count": 3,
   "id": "7c2091ea",
   "metadata": {},
   "outputs": [
    {
     "data": {
      "text/plain": [
       "(110527, 14)"
      ]
     },
     "execution_count": 3,
     "metadata": {},
     "output_type": "execute_result"
    }
   ],
   "source": [
    "df.shape"
   ]
  },
  {
   "cell_type": "markdown",
   "id": "01bb60ef",
   "metadata": {},
   "source": [
    "* There are 110.527 patient records having appointment."
   ]
  },
  {
   "cell_type": "code",
   "execution_count": 12,
   "id": "af16d97e",
   "metadata": {},
   "outputs": [
    {
     "name": "stdout",
     "output_type": "stream",
     "text": [
      "<class 'pandas.core.frame.DataFrame'>\n",
      "RangeIndex: 110527 entries, 0 to 110526\n",
      "Data columns (total 12 columns):\n",
      " #   Column         Non-Null Count   Dtype \n",
      "---  ------         --------------   ----- \n",
      " 0   Gender         110527 non-null  int64 \n",
      " 1   Age            110527 non-null  int64 \n",
      " 2   Neighbourhood  110527 non-null  object\n",
      " 3   Scholarship    110527 non-null  int64 \n",
      " 4   Hipertension   110527 non-null  int64 \n",
      " 5   Diabetes       110527 non-null  int64 \n",
      " 6   Alcoholism     110527 non-null  int64 \n",
      " 7   SMS_received   110527 non-null  int64 \n",
      " 8   No-show        110527 non-null  object\n",
      " 9   Schedule       110527 non-null  object\n",
      " 10  Appointment    110527 non-null  object\n",
      " 11  Delay          110527 non-null  int64 \n",
      "dtypes: int64(8), object(4)\n",
      "memory usage: 10.1+ MB\n"
     ]
    }
   ],
   "source": [
    "df.info()"
   ]
  },
  {
   "cell_type": "markdown",
   "id": "bad62960",
   "metadata": {},
   "source": [
    "* The oldest patient is 115 years old and the youngest one is an unborn baby. The majority of them are between 37 and 55 years old.\n",
    "* Only 9 percent of the patients have scholarship.\n",
    "* The patients have appointments for hipertension as 19 percent, for diabetes as 7 percent, and for alcoholism as 3 percent  appointments.\n",
    "* Mostly, patients older than 55 have SMS one or more.\n",
    "* The majority of patients are delayed their appointment 4 to 15 days, on average it is delayed 10 days."
   ]
  },
  {
   "cell_type": "code",
   "execution_count": 50,
   "id": "01e3bd0b",
   "metadata": {
    "scrolled": true
   },
   "outputs": [
    {
     "data": {
      "text/plain": [
       "array([[<AxesSubplot:title={'center':'Gender'}>,\n",
       "        <AxesSubplot:title={'center':'Age'}>,\n",
       "        <AxesSubplot:title={'center':'Scholarship'}>],\n",
       "       [<AxesSubplot:title={'center':'Hipertension'}>,\n",
       "        <AxesSubplot:title={'center':'Diabetes'}>,\n",
       "        <AxesSubplot:title={'center':'Alcoholism'}>],\n",
       "       [<AxesSubplot:title={'center':'SMS_received'}>,\n",
       "        <AxesSubplot:title={'center':'Delay'}>, <AxesSubplot:>]],\n",
       "      dtype=object)"
      ]
     },
     "execution_count": 50,
     "metadata": {},
     "output_type": "execute_result"
    },
    {
     "data": {
      "image/png": "[encoded data removed]",
      "text/plain": [
       "<Figure size 720x720 with 9 Axes>"
      ]
     },
     "metadata": {
      "needs_background": "light"
     },
     "output_type": "display_data"
    }
   ],
   "source": [
    "df.hist(figsize=(10,10))"
   ]
  },
  {
   "cell_type": "markdown",
   "id": "269442ed",
   "metadata": {},
   "source": [
    "Most people did not received SMS, majority of the reasons to have an appointment accordingly hipertension,diabetes, and alcoholism. Moreover, the day of delay generally less than a month."
   ]
  },
  {
   "cell_type": "markdown",
   "id": "1ca2b96a",
   "metadata": {},
   "source": [
    "* I need to extract date from timestamp (both for scheduled day and appointment day)."
   ]
  },
  {
   "cell_type": "code",
   "execution_count": 4,
   "id": "c153d781",
   "metadata": {},
   "outputs": [],
   "source": [
    "from datetime import datetime"
   ]
  },
  {
   "cell_type": "code",
   "execution_count": 5,
   "id": "dc5b23ec",
   "metadata": {},
   "outputs": [
    {
     "data": {
      "text/plain": [
       "0        2016-04-29 18:38:08+00:00\n",
       "1        2016-04-29 16:08:27+00:00\n",
       "2        2016-04-29 16:19:04+00:00\n",
       "3        2016-04-29 17:29:31+00:00\n",
       "4        2016-04-29 16:07:23+00:00\n",
       "                    ...           \n",
       "110522   2016-05-03 09:15:35+00:00\n",
       "110523   2016-05-03 07:27:33+00:00\n",
       "110524   2016-04-27 16:03:52+00:00\n",
       "110525   2016-04-27 15:09:23+00:00\n",
       "110526   2016-04-27 13:30:56+00:00\n",
       "Name: ScheduledDay, Length: 110527, dtype: datetime64[ns, UTC]"
      ]
     },
     "execution_count": 5,
     "metadata": {},
     "output_type": "execute_result"
    }
   ],
   "source": [
    "df[\"ScheduledDay\"] = pd.to_datetime(df[\"ScheduledDay\"])\n",
    "df[\"ScheduledDay\"]"
   ]
  },
  {
   "cell_type": "code",
   "execution_count": 6,
   "id": "e9c25718",
   "metadata": {},
   "outputs": [
    {
     "data": {
      "text/plain": [
       "0         2016-04-29\n",
       "1         2016-04-29\n",
       "2         2016-04-29\n",
       "3         2016-04-29\n",
       "4         2016-04-29\n",
       "             ...    \n",
       "110522    2016-05-03\n",
       "110523    2016-05-03\n",
       "110524    2016-04-27\n",
       "110525    2016-04-27\n",
       "110526    2016-04-27\n",
       "Name: Schedule, Length: 110527, dtype: object"
      ]
     },
     "execution_count": 6,
     "metadata": {},
     "output_type": "execute_result"
    }
   ],
   "source": [
    "df[\"Schedule\"] = df[\"ScheduledDay\"].dt.date\n",
    "df[\"Schedule\"]"
   ]
  },
  {
   "cell_type": "code",
   "execution_count": 7,
   "id": "2c0b8bce",
   "metadata": {
    "scrolled": true
   },
   "outputs": [
    {
     "data": {
      "text/plain": [
       "0        2016-04-29 00:00:00+00:00\n",
       "1        2016-04-29 00:00:00+00:00\n",
       "2        2016-04-29 00:00:00+00:00\n",
       "3        2016-04-29 00:00:00+00:00\n",
       "4        2016-04-29 00:00:00+00:00\n",
       "                    ...           \n",
       "110522   2016-06-07 00:00:00+00:00\n",
       "110523   2016-06-07 00:00:00+00:00\n",
       "110524   2016-06-07 00:00:00+00:00\n",
       "110525   2016-06-07 00:00:00+00:00\n",
       "110526   2016-06-07 00:00:00+00:00\n",
       "Name: AppointmentDay, Length: 110527, dtype: datetime64[ns, UTC]"
      ]
     },
     "execution_count": 7,
     "metadata": {},
     "output_type": "execute_result"
    }
   ],
   "source": [
    "df[\"AppointmentDay\"] = pd.to_datetime(df[\"AppointmentDay\"])\n",
    "df[\"AppointmentDay\"]"
   ]
  },
  {
   "cell_type": "code",
   "execution_count": 8,
   "id": "78279305",
   "metadata": {
    "scrolled": true
   },
   "outputs": [
    {
     "data": {
      "text/plain": [
       "0         2016-04-29\n",
       "1         2016-04-29\n",
       "2         2016-04-29\n",
       "3         2016-04-29\n",
       "4         2016-04-29\n",
       "             ...    \n",
       "110522    2016-06-07\n",
       "110523    2016-06-07\n",
       "110524    2016-06-07\n",
       "110525    2016-06-07\n",
       "110526    2016-06-07\n",
       "Name: Appointment, Length: 110527, dtype: object"
      ]
     },
     "execution_count": 8,
     "metadata": {},
     "output_type": "execute_result"
    }
   ],
   "source": [
    "df[\"Appointment\"] = df[\"AppointmentDay\"].dt.date\n",
    "df[\"Appointment\"]"
   ]
  },
  {
   "cell_type": "markdown",
   "id": "edbe08bd",
   "metadata": {},
   "source": [
    "I would like to add a new column called `Delay` to calculate the number of days if there was a delay in appointment."
   ]
  },
  {
   "cell_type": "code",
   "execution_count": 9,
   "id": "5f2e631b",
   "metadata": {},
   "outputs": [],
   "source": [
    "df['Delay'] = (df['Appointment'] - df['Schedule']).dt.days"
   ]
  },
  {
   "cell_type": "markdown",
   "id": "20e09e89",
   "metadata": {},
   "source": [
    "## Cleaning Column Labels"
   ]
  },
  {
   "cell_type": "markdown",
   "id": "6d0869fd",
   "metadata": {},
   "source": [
    "I do not need `AppointmentDay` and `ScheduledDay` anymore, also there are some columns that I am planning not to use listed as `PatientId`, `AppointmentID`, and `Handcap`."
   ]
  },
  {
   "cell_type": "code",
   "execution_count": 10,
   "id": "23b8604d",
   "metadata": {},
   "outputs": [],
   "source": [
    "df.drop(['PatientId', 'AppointmentID', 'Handcap', 'ScheduledDay', 'AppointmentDay' ], axis=1, inplace = True)"
   ]
  },
  {
   "cell_type": "markdown",
   "id": "86face3e",
   "metadata": {},
   "source": [
    "I will replace `Male` with `0` and `Female` with `1` to see on graph.|"
   ]
  },
  {
   "cell_type": "code",
   "execution_count": 11,
   "id": "462f66d8",
   "metadata": {},
   "outputs": [
    {
     "data": {
      "text/html": [
       "<div>\n",
       "<style scoped>\n",
       "    .dataframe tbody tr th:only-of-type {\n",
       "        vertical-align: middle;\n",
       "    }\n",
       "\n",
       "    .dataframe tbody tr th {\n",
       "        vertical-align: top;\n",
       "    }\n",
       "\n",
       "    .dataframe thead th {\n",
       "        text-align: right;\n",
       "    }\n",
       "</style>\n",
       "<table border=\"1\" class=\"dataframe\">\n",
       "  <thead>\n",
       "    <tr style=\"text-align: right;\">\n",
       "      <th></th>\n",
       "      <th>Gender</th>\n",
       "      <th>Age</th>\n",
       "      <th>Neighbourhood</th>\n",
       "      <th>Scholarship</th>\n",
       "      <th>Hipertension</th>\n",
       "      <th>Diabetes</th>\n",
       "      <th>Alcoholism</th>\n",
       "      <th>SMS_received</th>\n",
       "      <th>No-show</th>\n",
       "      <th>Schedule</th>\n",
       "      <th>Appointment</th>\n",
       "      <th>Delay</th>\n",
       "    </tr>\n",
       "  </thead>\n",
       "  <tbody>\n",
       "    <tr>\n",
       "      <th>0</th>\n",
       "      <td>1</td>\n",
       "      <td>62</td>\n",
       "      <td>JARDIM DA PENHA</td>\n",
       "      <td>0</td>\n",
       "      <td>1</td>\n",
       "      <td>0</td>\n",
       "      <td>0</td>\n",
       "      <td>0</td>\n",
       "      <td>No</td>\n",
       "      <td>2016-04-29</td>\n",
       "      <td>2016-04-29</td>\n",
       "      <td>0</td>\n",
       "    </tr>\n",
       "    <tr>\n",
       "      <th>1</th>\n",
       "      <td>0</td>\n",
       "      <td>56</td>\n",
       "      <td>JARDIM DA PENHA</td>\n",
       "      <td>0</td>\n",
       "      <td>0</td>\n",
       "      <td>0</td>\n",
       "      <td>0</td>\n",
       "      <td>0</td>\n",
       "      <td>No</td>\n",
       "      <td>2016-04-29</td>\n",
       "      <td>2016-04-29</td>\n",
       "      <td>0</td>\n",
       "    </tr>\n",
       "    <tr>\n",
       "      <th>2</th>\n",
       "      <td>1</td>\n",
       "      <td>62</td>\n",
       "      <td>MATA DA PRAIA</td>\n",
       "      <td>0</td>\n",
       "      <td>0</td>\n",
       "      <td>0</td>\n",
       "      <td>0</td>\n",
       "      <td>0</td>\n",
       "      <td>No</td>\n",
       "      <td>2016-04-29</td>\n",
       "      <td>2016-04-29</td>\n",
       "      <td>0</td>\n",
       "    </tr>\n",
       "    <tr>\n",
       "      <th>3</th>\n",
       "      <td>1</td>\n",
       "      <td>8</td>\n",
       "      <td>PONTAL DE CAMBURI</td>\n",
       "      <td>0</td>\n",
       "      <td>0</td>\n",
       "      <td>0</td>\n",
       "      <td>0</td>\n",
       "      <td>0</td>\n",
       "      <td>No</td>\n",
       "      <td>2016-04-29</td>\n",
       "      <td>2016-04-29</td>\n",
       "      <td>0</td>\n",
       "    </tr>\n",
       "    <tr>\n",
       "      <th>4</th>\n",
       "      <td>1</td>\n",
       "      <td>56</td>\n",
       "      <td>JARDIM DA PENHA</td>\n",
       "      <td>0</td>\n",
       "      <td>1</td>\n",
       "      <td>1</td>\n",
       "      <td>0</td>\n",
       "      <td>0</td>\n",
       "      <td>No</td>\n",
       "      <td>2016-04-29</td>\n",
       "      <td>2016-04-29</td>\n",
       "      <td>0</td>\n",
       "    </tr>\n",
       "    <tr>\n",
       "      <th>...</th>\n",
       "      <td>...</td>\n",
       "      <td>...</td>\n",
       "      <td>...</td>\n",
       "      <td>...</td>\n",
       "      <td>...</td>\n",
       "      <td>...</td>\n",
       "      <td>...</td>\n",
       "      <td>...</td>\n",
       "      <td>...</td>\n",
       "      <td>...</td>\n",
       "      <td>...</td>\n",
       "      <td>...</td>\n",
       "    </tr>\n",
       "    <tr>\n",
       "      <th>110522</th>\n",
       "      <td>1</td>\n",
       "      <td>56</td>\n",
       "      <td>MARIA ORTIZ</td>\n",
       "      <td>0</td>\n",
       "      <td>0</td>\n",
       "      <td>0</td>\n",
       "      <td>0</td>\n",
       "      <td>1</td>\n",
       "      <td>No</td>\n",
       "      <td>2016-05-03</td>\n",
       "      <td>2016-06-07</td>\n",
       "      <td>35</td>\n",
       "    </tr>\n",
       "    <tr>\n",
       "      <th>110523</th>\n",
       "      <td>1</td>\n",
       "      <td>51</td>\n",
       "      <td>MARIA ORTIZ</td>\n",
       "      <td>0</td>\n",
       "      <td>0</td>\n",
       "      <td>0</td>\n",
       "      <td>0</td>\n",
       "      <td>1</td>\n",
       "      <td>No</td>\n",
       "      <td>2016-05-03</td>\n",
       "      <td>2016-06-07</td>\n",
       "      <td>35</td>\n",
       "    </tr>\n",
       "    <tr>\n",
       "      <th>110524</th>\n",
       "      <td>1</td>\n",
       "      <td>21</td>\n",
       "      <td>MARIA ORTIZ</td>\n",
       "      <td>0</td>\n",
       "      <td>0</td>\n",
       "      <td>0</td>\n",
       "      <td>0</td>\n",
       "      <td>1</td>\n",
       "      <td>No</td>\n",
       "      <td>2016-04-27</td>\n",
       "      <td>2016-06-07</td>\n",
       "      <td>41</td>\n",
       "    </tr>\n",
       "    <tr>\n",
       "      <th>110525</th>\n",
       "      <td>1</td>\n",
       "      <td>38</td>\n",
       "      <td>MARIA ORTIZ</td>\n",
       "      <td>0</td>\n",
       "      <td>0</td>\n",
       "      <td>0</td>\n",
       "      <td>0</td>\n",
       "      <td>1</td>\n",
       "      <td>No</td>\n",
       "      <td>2016-04-27</td>\n",
       "      <td>2016-06-07</td>\n",
       "      <td>41</td>\n",
       "    </tr>\n",
       "    <tr>\n",
       "      <th>110526</th>\n",
       "      <td>1</td>\n",
       "      <td>54</td>\n",
       "      <td>MARIA ORTIZ</td>\n",
       "      <td>0</td>\n",
       "      <td>0</td>\n",
       "      <td>0</td>\n",
       "      <td>0</td>\n",
       "      <td>1</td>\n",
       "      <td>No</td>\n",
       "      <td>2016-04-27</td>\n",
       "      <td>2016-06-07</td>\n",
       "      <td>41</td>\n",
       "    </tr>\n",
       "  </tbody>\n",
       "</table>\n",
       "<p>110527 rows × 12 columns</p>\n",
       "</div>"
      ],
      "text/plain": [
       "        Gender  Age      Neighbourhood  Scholarship  Hipertension  Diabetes  \\\n",
       "0            1   62    JARDIM DA PENHA            0             1         0   \n",
       "1            0   56    JARDIM DA PENHA            0             0         0   \n",
       "2            1   62      MATA DA PRAIA            0             0         0   \n",
       "3            1    8  PONTAL DE CAMBURI            0             0         0   \n",
       "4            1   56    JARDIM DA PENHA            0             1         1   \n",
       "...        ...  ...                ...          ...           ...       ...   \n",
       "110522       1   56        MARIA ORTIZ            0             0         0   \n",
       "110523       1   51        MARIA ORTIZ            0             0         0   \n",
       "110524       1   21        MARIA ORTIZ            0             0         0   \n",
       "110525       1   38        MARIA ORTIZ            0             0         0   \n",
       "110526       1   54        MARIA ORTIZ            0             0         0   \n",
       "\n",
       "        Alcoholism  SMS_received No-show    Schedule Appointment  Delay  \n",
       "0                0             0      No  2016-04-29  2016-04-29      0  \n",
       "1                0             0      No  2016-04-29  2016-04-29      0  \n",
       "2                0             0      No  2016-04-29  2016-04-29      0  \n",
       "3                0             0      No  2016-04-29  2016-04-29      0  \n",
       "4                0             0      No  2016-04-29  2016-04-29      0  \n",
       "...            ...           ...     ...         ...         ...    ...  \n",
       "110522           0             1      No  2016-05-03  2016-06-07     35  \n",
       "110523           0             1      No  2016-05-03  2016-06-07     35  \n",
       "110524           0             1      No  2016-04-27  2016-06-07     41  \n",
       "110525           0             1      No  2016-04-27  2016-06-07     41  \n",
       "110526           0             1      No  2016-04-27  2016-06-07     41  \n",
       "\n",
       "[110527 rows x 12 columns]"
      ]
     },
     "execution_count": 11,
     "metadata": {},
     "output_type": "execute_result"
    }
   ],
   "source": [
    "df['Gender'].replace(['M','F'], [0,1] ,inplace=True)\n",
    "df"
   ]
  },
  {
   "cell_type": "markdown",
   "id": "9f5c76ee",
   "metadata": {},
   "source": [
    "### Dropping Nulls"
   ]
  },
  {
   "cell_type": "code",
   "execution_count": 13,
   "id": "f6c785d9",
   "metadata": {
    "scrolled": true
   },
   "outputs": [
    {
     "name": "stdout",
     "output_type": "stream",
     "text": [
      "<class 'pandas.core.frame.DataFrame'>\n",
      "RangeIndex: 110527 entries, 0 to 110526\n",
      "Data columns (total 12 columns):\n",
      " #   Column         Non-Null Count   Dtype \n",
      "---  ------         --------------   ----- \n",
      " 0   Gender         110527 non-null  int64 \n",
      " 1   Age            110527 non-null  int64 \n",
      " 2   Neighbourhood  110527 non-null  object\n",
      " 3   Scholarship    110527 non-null  int64 \n",
      " 4   Hipertension   110527 non-null  int64 \n",
      " 5   Diabetes       110527 non-null  int64 \n",
      " 6   Alcoholism     110527 non-null  int64 \n",
      " 7   SMS_received   110527 non-null  int64 \n",
      " 8   No-show        110527 non-null  object\n",
      " 9   Schedule       110527 non-null  object\n",
      " 10  Appointment    110527 non-null  object\n",
      " 11  Delay          110527 non-null  int64 \n",
      "dtypes: int64(8), object(4)\n",
      "memory usage: 10.1+ MB\n"
     ]
    }
   ],
   "source": [
    "df.info()"
   ]
  },
  {
   "cell_type": "markdown",
   "id": "9f2f58f8",
   "metadata": {},
   "source": [
    "* There is no missing value. So, no need to fill or drop NAs."
   ]
  },
  {
   "cell_type": "markdown",
   "id": "2d781fa3",
   "metadata": {},
   "source": [
    "## EDA"
   ]
  },
  {
   "cell_type": "markdown",
   "id": "2a7022d0",
   "metadata": {},
   "source": [
    "### Q1: Is there any relation between the age of the patient and having a delay on the date of appointment.\n",
    "Hypotheses 1: I expect that people between 37-55 ages have mostly delay because of they are the major group.\n"
   ]
  },
  {
   "cell_type": "code",
   "execution_count": 16,
   "id": "06df3989",
   "metadata": {},
   "outputs": [
    {
     "data": {
      "text/plain": [
       "38.502563960032795"
      ]
     },
     "execution_count": 16,
     "metadata": {},
     "output_type": "execute_result"
    }
   ],
   "source": [
    "df.Age[delayed].mean() "
   ]
  },
  {
   "cell_type": "code",
   "execution_count": 17,
   "id": "d46726cf",
   "metadata": {},
   "outputs": [
    {
     "data": {
      "text/plain": [
       "34.45139122993543"
      ]
     },
     "execution_count": 17,
     "metadata": {},
     "output_type": "execute_result"
    }
   ],
   "source": [
    "df.Age[ontime].mean()"
   ]
  },
  {
   "cell_type": "code",
   "execution_count": 18,
   "id": "6137d4d4",
   "metadata": {},
   "outputs": [
    {
     "data": {
      "text/plain": [
       "33.4"
      ]
     },
     "execution_count": 18,
     "metadata": {},
     "output_type": "execute_result"
    }
   ],
   "source": [
    "df.Age[earlier].mean()"
   ]
  },
  {
   "cell_type": "markdown",
   "id": "7b9e0af9",
   "metadata": {},
   "source": [
    "It is seen that younger than 35 age people are more careful about not delaying their appointments. Let's see the distribution of them."
   ]
  },
  {
   "cell_type": "code",
   "execution_count": 46,
   "id": "879db45d",
   "metadata": {},
   "outputs": [
    {
     "data": {
      "image/png": "[encoded data removed]",
      "text/plain": [
       "<Figure size 432x288 with 1 Axes>"
      ]
     },
     "metadata": {
      "needs_background": "light"
     },
     "output_type": "display_data"
    }
   ],
   "source": [
    "df.Age[delayed].hist(alpha=0.5,bins=10, label='delayed')\n",
    "df.Age[ontime].hist(alpha=0.5,bins=10, label='ontime')\n",
    "df.Age[earlier].hist(alpha=0.5,bins=10, label='earlier')\n",
    "plt.legend();"
   ]
  },
  {
   "cell_type": "markdown",
   "id": "997a547e",
   "metadata": {},
   "source": [
    "**Answer 1: According to the distribution graph, there people averagely came on time in the age of 34 but also there are a lot of people who delayed in that age, too.**"
   ]
  },
  {
   "cell_type": "code",
   "execution_count": 20,
   "id": "67f3b1fd",
   "metadata": {},
   "outputs": [
    {
     "data": {
      "image/png": "[encoded data removed]",
      "text/plain": [
       "<Figure size 432x288 with 1 Axes>"
      ]
     },
     "metadata": {
      "needs_background": "light"
     },
     "output_type": "display_data"
    }
   ],
   "source": [
    "df.Age[earlier].hist(alpha=0.5,bins=20, label='earlier')\n",
    "plt.legend();"
   ]
  },
  {
   "cell_type": "markdown",
   "id": "c149e607",
   "metadata": {},
   "source": [
    "We cannot say younger person comes 'earlier' then their appointment."
   ]
  },
  {
   "cell_type": "markdown",
   "id": "2d7cb963",
   "metadata": {},
   "source": [
    "## Q2: Is there any relation between gender and delaying appointment?\n"
   ]
  },
  {
   "cell_type": "code",
   "execution_count": 21,
   "id": "79735eaf",
   "metadata": {},
   "outputs": [
    {
     "data": {
      "text/plain": [
       "Gender\n",
       "0     9.593197\n",
       "1    10.501698\n",
       "Name: Delay, dtype: float64"
      ]
     },
     "execution_count": 21,
     "metadata": {},
     "output_type": "execute_result"
    }
   ],
   "source": [
    "df.groupby('Gender').Delay.mean()"
   ]
  },
  {
   "cell_type": "code",
   "execution_count": 22,
   "id": "a4783ec3",
   "metadata": {},
   "outputs": [
    {
     "data": {
      "image/png": "[encoded data removed]",
      "text/plain": [
       "<Figure size 432x288 with 1 Axes>"
      ]
     },
     "metadata": {
      "needs_background": "light"
     },
     "output_type": "display_data"
    }
   ],
   "source": [
    "df.groupby('Gender').Delay.mean().plot(kind='bar');"
   ]
  },
  {
   "cell_type": "markdown",
   "id": "f1efdf78",
   "metadata": {},
   "source": [
    "Although they are close, females more tend to delay than males."
   ]
  },
  {
   "cell_type": "code",
   "execution_count": 23,
   "id": "d79f4b30",
   "metadata": {},
   "outputs": [
    {
     "data": {
      "text/plain": [
       "1    71840\n",
       "0    38687\n",
       "Name: Gender, dtype: int64"
      ]
     },
     "execution_count": 23,
     "metadata": {},
     "output_type": "execute_result"
    }
   ],
   "source": [
    "df.Gender.value_counts()  #Is the result related to the number of females?"
   ]
  },
  {
   "cell_type": "markdown",
   "id": "6fdf3ce9",
   "metadata": {},
   "source": [
    "No, the number of females and males explains the number of female are more than double of males. "
   ]
  },
  {
   "cell_type": "code",
   "execution_count": 24,
   "id": "487836af",
   "metadata": {},
   "outputs": [
    {
     "data": {
      "text/plain": [
       "Scholarship  Gender\n",
       "0            1         62987\n",
       "             0         36679\n",
       "1            1          8853\n",
       "             0          2008\n",
       "Name: Gender, dtype: int64"
      ]
     },
     "execution_count": 24,
     "metadata": {},
     "output_type": "execute_result"
    }
   ],
   "source": [
    "df.groupby('Scholarship')['Gender'].value_counts() #Is the result related to having a scholarship?"
   ]
  },
  {
   "cell_type": "markdown",
   "id": "a9d2889a",
   "metadata": {},
   "source": [
    "No, females have more scholarship than males.\n",
    "\n",
    "**Answer 2 : It is  clear that females are more likely to delay their appointments.**"
   ]
  },
  {
   "cell_type": "markdown",
   "id": "fa5ba443",
   "metadata": {},
   "source": [
    "## Q3: Do people delay more their appointment when they have no-scholarship?\n",
    "\n"
   ]
  },
  {
   "cell_type": "code",
   "execution_count": 25,
   "id": "b33fc05f",
   "metadata": {
    "scrolled": true
   },
   "outputs": [
    {
     "data": {
      "text/plain": [
       "No-show\n",
       "No     0.093903\n",
       "Yes    0.115507\n",
       "Name: Scholarship, dtype: float64"
      ]
     },
     "execution_count": 25,
     "metadata": {},
     "output_type": "execute_result"
    }
   ],
   "source": [
    "df.groupby('No-show').Scholarship.mean()"
   ]
  },
  {
   "cell_type": "code",
   "execution_count": 26,
   "id": "d0fee3d0",
   "metadata": {
    "scrolled": true
   },
   "outputs": [
    {
     "data": {
      "text/plain": [
       "No-show\n",
       "No     88208\n",
       "Yes    22319\n",
       "Name: Scholarship, dtype: int64"
      ]
     },
     "execution_count": 26,
     "metadata": {},
     "output_type": "execute_result"
    }
   ],
   "source": [
    "df.groupby('No-show').Scholarship.count()"
   ]
  },
  {
   "cell_type": "code",
   "execution_count": 27,
   "id": "5d5f228c",
   "metadata": {
    "scrolled": true
   },
   "outputs": [
    {
     "data": {
      "text/plain": [
       "<AxesSubplot:xlabel='No-show,Scholarship'>"
      ]
     },
     "execution_count": 27,
     "metadata": {},
     "output_type": "execute_result"
    },
    {
     "data": {
      "image/png": "[encoded data removed]",
      "text/plain": [
       "<Figure size 432x288 with 1 Axes>"
      ]
     },
     "metadata": {
      "needs_background": "light"
     },
     "output_type": "display_data"
    }
   ],
   "source": [
    "df.groupby('No-show').Scholarship.value_counts().plot(kind= 'line')"
   ]
  },
  {
   "cell_type": "markdown",
   "id": "084f7cca",
   "metadata": {},
   "source": [
    "**Answer 3: People who have scholarship are less tend to appointment delay.**"
   ]
  },
  {
   "cell_type": "markdown",
   "id": "ddd5ad5c",
   "metadata": {},
   "source": [
    "## Q4: Is there any relationship between gender have scholarship and delay the appointment?\n"
   ]
  },
  {
   "cell_type": "code",
   "execution_count": 28,
   "id": "cd5cc8fe",
   "metadata": {},
   "outputs": [
    {
     "data": {
      "image/png": "[encoded data removed]",
      "text/plain": [
       "<Figure size 432x288 with 1 Axes>"
      ]
     },
     "metadata": {
      "needs_background": "light"
     },
     "output_type": "display_data"
    }
   ],
   "source": [
    "df.groupby(['Scholarship', 'Gender']).Delay.mean().plot(kind='bar');"
   ]
  },
  {
   "cell_type": "markdown",
   "id": "67a57181",
   "metadata": {},
   "source": [
    "**Answer: Both males and fames are delay more when they have no scholarship.**"
   ]
  },
  {
   "cell_type": "markdown",
   "id": "395f05e0",
   "metadata": {},
   "source": [
    "## Q5: Which gender has more appointment in which illness?"
   ]
  },
  {
   "cell_type": "code",
   "execution_count": 29,
   "id": "7ef685f5",
   "metadata": {},
   "outputs": [
    {
     "data": {
      "text/plain": [
       "Gender\n",
       "0    0.167033\n",
       "1    0.213516\n",
       "Name: Hipertension, dtype: float64"
      ]
     },
     "execution_count": 29,
     "metadata": {},
     "output_type": "execute_result"
    }
   ],
   "source": [
    "df.groupby('Gender').Hipertension.mean()"
   ]
  },
  {
   "cell_type": "code",
   "execution_count": 30,
   "id": "96ba7f76",
   "metadata": {},
   "outputs": [
    {
     "data": {
      "text/plain": [
       "<AxesSubplot:xlabel='Gender'>"
      ]
     },
     "execution_count": 30,
     "metadata": {},
     "output_type": "execute_result"
    },
    {
     "data": {
      "image/png": "[encoded data removed]",
      "text/plain": [
       "<Figure size 432x288 with 1 Axes>"
      ]
     },
     "metadata": {
      "needs_background": "light"
     },
     "output_type": "display_data"
    }
   ],
   "source": [
    "df.groupby('Gender').Hipertension.mean().plot(kind='bar')"
   ]
  },
  {
   "cell_type": "markdown",
   "id": "3b0832dd",
   "metadata": {},
   "source": [
    "**Answer 5.1: Females are more likely to make an appointment for hipertension.**"
   ]
  },
  {
   "cell_type": "code",
   "execution_count": 31,
   "id": "946a6d1a",
   "metadata": {},
   "outputs": [
    {
     "data": {
      "text/plain": [
       "<AxesSubplot:xlabel='Gender'>"
      ]
     },
     "execution_count": 31,
     "metadata": {},
     "output_type": "execute_result"
    },
    {
     "data": {
      "image/png": "[encoded data removed]",
      "text/plain": [
       "<Figure size 432x288 with 1 Axes>"
      ]
     },
     "metadata": {
      "needs_background": "light"
     },
     "output_type": "display_data"
    }
   ],
   "source": [
    "df.groupby('Gender').Alcoholism.mean().plot(kind='bar')"
   ]
  },
  {
   "cell_type": "markdown",
   "id": "a70c181d",
   "metadata": {},
   "source": [
    "**Answer 5.2: Males are more likely to make an appointment for alcoholism.**"
   ]
  },
  {
   "cell_type": "code",
   "execution_count": 32,
   "id": "22d694b5",
   "metadata": {},
   "outputs": [
    {
     "data": {
      "text/plain": [
       "<AxesSubplot:xlabel='Gender'>"
      ]
     },
     "execution_count": 32,
     "metadata": {},
     "output_type": "execute_result"
    },
    {
     "data": {
      "image/png": "[encoded data removed]",
      "text/plain": [
       "<Figure size 432x288 with 1 Axes>"
      ]
     },
     "metadata": {
      "needs_background": "light"
     },
     "output_type": "display_data"
    }
   ],
   "source": [
    "df.groupby('Gender').Diabetes.mean().plot(kind='bar')"
   ]
  },
  {
   "cell_type": "markdown",
   "id": "aa4f52b6",
   "metadata": {},
   "source": [
    "**Answer 5.3: Females are more likely to make an appointment for diabetes.**"
   ]
  },
  {
   "cell_type": "code",
   "execution_count": 53,
   "id": "a53cd43c",
   "metadata": {},
   "outputs": [
    {
     "data": {
      "image/png": "[encoded data removed]",
      "text/plain": [
       "<Figure size 432x288 with 1 Axes>"
      ]
     },
     "metadata": {
      "needs_background": "light"
     },
     "output_type": "display_data"
    }
   ],
   "source": [
    "df.groupby('Gender').Diabetes.mean().plot(kind='bar', color='blue')\n",
    "df.groupby('Gender').Alcoholism.mean().plot(kind='bar', color='black')\n",
    "#df.groupby('Gender').Hipertension.mean().plot(kind='bar', color='green')\n",
    "plt.legend();"
   ]
  },
  {
   "cell_type": "markdown",
   "id": "e1431632",
   "metadata": {},
   "source": [
    "## Q6: Does a person suffer from alcoholism tend to delay appointments?"
   ]
  },
  {
   "cell_type": "code",
   "execution_count": 34,
   "id": "31c8026e",
   "metadata": {},
   "outputs": [
    {
     "data": {
      "image/png": "[encoded data removed]",
      "text/plain": [
       "<Figure size 432x288 with 1 Axes>"
      ]
     },
     "metadata": {
      "needs_background": "light"
     },
     "output_type": "display_data"
    }
   ],
   "source": [
    "df.Alcoholism[delayed].value_counts().plot(kind='line', color= 'red', label='delayed')\n",
    "df.Alcoholism[ontime].value_counts().plot(kind='line', color= 'purple', label='ontime')\n",
    "df.Alcoholism[earlier].value_counts().plot(kind='line', color= 'black', label='earlier')\n",
    "plt.legend();"
   ]
  },
  {
   "cell_type": "code",
   "execution_count": 35,
   "id": "ec54552c",
   "metadata": {},
   "outputs": [
    {
     "data": {
      "text/plain": [
       "0    70137\n",
       "1     1822\n",
       "Name: Alcoholism, dtype: int64"
      ]
     },
     "execution_count": 35,
     "metadata": {},
     "output_type": "execute_result"
    }
   ],
   "source": [
    "df.Alcoholism[delayed].value_counts()"
   ]
  },
  {
   "cell_type": "code",
   "execution_count": 36,
   "id": "1acc75ef",
   "metadata": {},
   "outputs": [
    {
     "data": {
      "text/plain": [
       "110527"
      ]
     },
     "execution_count": 36,
     "metadata": {},
     "output_type": "execute_result"
    }
   ],
   "source": [
    "df.Alcoholism.count()"
   ]
  },
  {
   "cell_type": "code",
   "execution_count": 37,
   "id": "386b9122",
   "metadata": {},
   "outputs": [
    {
     "data": {
      "text/plain": [
       "No-show\n",
       "No     88208\n",
       "Yes    22319\n",
       "Name: Alcoholism, dtype: int64"
      ]
     },
     "execution_count": 37,
     "metadata": {},
     "output_type": "execute_result"
    }
   ],
   "source": [
    "df.groupby('No-show').Alcoholism.count()"
   ]
  },
  {
   "cell_type": "markdown",
   "id": "29185ef6",
   "metadata": {},
   "source": [
    "**Answer 6 : No, people suffer from alcoholism less tend to delay comparing to others.**"
   ]
  }
 ],
 "metadata": {
  "kernelspec": {
   "display_name": "Python 3.9.5 64-bit ('base': conda)",
   "language": "python",
   "name": "python395jvsc74a57bd0e7cb1b9ae4d417fedf7f40a8eec98f7cfbd359e096bd857395a915f4609834ce"
  },
  "language_info": {
   "codemirror_mode": {
    "name": "ipython",
    "version": 3
   },
   "file_extension": ".py",
   "mimetype": "text/x-python",
   "name": "python",
   "nbconvert_exporter": "python",
   "pygments_lexer": "ipython3",
   "version": "3.9.5"
  },
  "toc": {
   "base_numbering": 1,
   "nav_menu": {},
   "number_sections": true,
   "sideBar": true,
   "skip_h1_title": false,
   "title_cell": "Table of Contents",
   "title_sidebar": "Contents",
   "toc_cell": false,
   "toc_position": {},
   "toc_section_display": true,
   "toc_window_display": false
  }
 },
 "nbformat": 4,
 "nbformat_minor": 5
}
